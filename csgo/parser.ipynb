{
 "cells": [
  {
   "cell_type": "code",
   "execution_count": null,
   "metadata": {},
   "outputs": [],
   "source": []
  },
  {
   "cell_type": "code",
   "execution_count": 2,
   "metadata": {},
   "outputs": [
    {
     "name": "stdout",
     "output_type": "stream",
     "text": [
      "Requirement already satisfied: numpy in /usr/local/Cellar/jupyterlab/2.2.8/libexec/lib/python3.8/site-packages (1.19.2)\n",
      "\u001b[33mWARNING: You are using pip version 20.2.3; however, version 21.0.1 is available.\n",
      "You should consider upgrading via the '/usr/local/Cellar/jupyterlab/2.2.8/libexec/bin/python3.8 -m pip install --upgrade pip' command.\u001b[0m\n",
      "Requirement already satisfied: pandas in /usr/local/Cellar/jupyterlab/2.2.8/libexec/lib/python3.8/site-packages (1.1.2)\n",
      "Requirement already satisfied: pytz>=2017.2 in /usr/local/Cellar/jupyterlab/2.2.8/libexec/lib/python3.8/site-packages (from pandas) (2020.1)\n",
      "Requirement already satisfied: numpy>=1.15.4 in /usr/local/Cellar/jupyterlab/2.2.8/libexec/lib/python3.8/site-packages (from pandas) (1.19.2)\n",
      "Requirement already satisfied: python-dateutil>=2.7.3 in /usr/local/Cellar/jupyterlab/2.2.8/libexec/lib/python3.8/site-packages (from pandas) (2.8.1)\n",
      "Requirement already satisfied: six>=1.5 in /usr/local/Cellar/jupyterlab/2.2.8/libexec/lib/python3.8/site-packages (from python-dateutil>=2.7.3->pandas) (1.15.0)\n",
      "\u001b[33mWARNING: You are using pip version 20.2.3; however, version 21.0.1 is available.\n",
      "You should consider upgrading via the '/usr/local/Cellar/jupyterlab/2.2.8/libexec/bin/python3.8 -m pip install --upgrade pip' command.\u001b[0m\n"
     ]
    },
    {
     "name": "stderr",
     "output_type": "stream",
     "text": [
      "01:17:23 [INFO] Initialized CSGODemoParser with demofile DemoManager/SKADE/Inferno/18-04-2021&Young Ninjas.dem\n",
      "01:17:23 [INFO] Go version>=1.14.0\n",
      "01:17:23 [INFO] Initialized CSGODemoParser with demofile DemoManager/SKADE/Inferno/18-04-2021&Young Ninjas.dem\n",
      "01:17:23 [INFO] Starting CSGO Golang demofile parser, reading in /Users/kudrya/PycharmProjects/csgo/DemoManager/SKADE/Inferno/18-04-2021&Young Ninjas.dem\n",
      "01:17:23 [INFO] Running Golang parser from /Users/kudrya/PycharmProjects/csgo/csgo/parser/\n",
      "01:17:30 [INFO] Demofile parsing complete\n",
      "01:17:30 [INFO] Parsing match events\n",
      "01:17:30 [INFO] Parsed round end 1\n",
      "01:17:30 [INFO] Parsed round end official 1\n",
      "01:17:30 [INFO] Parsed round end 2\n",
      "01:17:30 [INFO] Parsed round end official 2\n",
      "01:17:31 [INFO] Parsed round end 3\n",
      "01:17:31 [INFO] Parsed round end official 3\n",
      "01:17:31 [INFO] Parsed round end 4\n",
      "01:17:31 [INFO] Parsed round end official 4\n",
      "01:17:31 [INFO] Parsed round end 5\n",
      "01:17:31 [INFO] Parsed round end official 5\n",
      "01:17:31 [INFO] Parsed round end 6\n",
      "01:17:31 [INFO] Parsed round end official 6\n",
      "01:17:31 [INFO] Parsed round end 7\n",
      "01:17:31 [INFO] Parsed round end official 7\n",
      "01:17:31 [INFO] Parsed round end 8\n",
      "01:17:31 [INFO] Parsed round end official 8\n",
      "01:17:31 [INFO] Parsed round end 9\n",
      "01:17:31 [INFO] Parsed round end official 9\n",
      "01:17:31 [INFO] Parsed round end 10\n",
      "01:17:31 [INFO] Parsed round end official 10\n",
      "01:17:31 [INFO] Parsed round end 11\n",
      "01:17:31 [INFO] Parsed round end official 11\n",
      "01:17:31 [INFO] Parsed round end 12\n",
      "01:17:31 [INFO] Parsed round end official 12\n",
      "01:17:31 [INFO] Parsed round end 13\n",
      "01:17:31 [INFO] Parsed round end official 13\n",
      "01:17:31 [INFO] Parsed round end 14\n",
      "01:17:31 [INFO] Parsed round end official 14\n",
      "01:17:31 [INFO] Parsed round end 15\n",
      "01:17:31 [INFO] Parsed round end official 15\n",
      "01:17:31 [INFO] Parsed round end 16\n",
      "01:17:31 [INFO] Parsed round end official 16\n",
      "01:17:31 [INFO] Parsed round end 17\n",
      "01:17:31 [INFO] Parsed round end official 17\n",
      "01:17:31 [INFO] Parsed round end 18\n",
      "01:17:31 [INFO] Parsed round end official 18\n",
      "01:17:31 [INFO] Parsed round end 19\n",
      "01:17:31 [INFO] Parsed round end official 19\n",
      "01:17:31 [INFO] Parsed round end 20\n",
      "01:17:31 [INFO] Parsed round end official 20\n",
      "01:17:31 [INFO] Parsed round end 21\n",
      "01:17:31 [INFO] Parsed round end official 21\n",
      "01:17:31 [INFO] Parsed round end 22\n",
      "01:17:31 [INFO] Starting CSGO Golang demofile parser, reading in /Users/kudrya/PycharmProjects/csgo/DemoManager/SKADE/Inferno/18-04-2021&Young Ninjas.dem\n",
      "01:17:31 [INFO] Running Golang frame parser from /Users/kudrya/PycharmProjects/csgo/csgo/parser/\n",
      "01:17:41 [INFO] Demofile parsing complete, output written to big-vs-g2-dust.xml\n",
      "01:17:48 [INFO] Cleaned the round XML to remove noisy rounds\n"
     ]
    }
   ],
   "source": [
    "import sys\n",
    "import pandas as pd\n",
    "import numpy as np\n",
    "!{sys.executable} -m pip install numpy\n",
    "!{sys.executable} -m pip install pandas\n",
    "from csgo.parser import DemoParser\n",
    "from csgo.parser import FrameParser\n",
    "pd.options.display.max_columns = None\n",
    "# Create parser object\n",
    "# Set log=True above if you want to produce a logfile for the parser\n",
    "demo_parser = DemoParser(demofile = \"DemoManager/SKADE/Inferno/18-04-2021&Young Ninjas.dem\", match_id = \"big-vs-g2-dust\")\n",
    "frame_parser = FrameParser(demofile = \"DemoManager/SKADE/Inferno/18-04-2021&Young Ninjas.dem\", match_id = \"big-vs-g2-dust\")\n",
    "\n",
    "# Parse the demofile, output results to dictionary with df name as key\n",
    "demo_data = demo_parser.parse()\n",
    "frame_data = frame_parser.parse(df = True)\n"
   ]
  },
  {
   "cell_type": "code",
   "execution_count": 5,
   "metadata": {},
   "outputs": [],
   "source": [
    "teams = pd.unique(demo_data[\"Rounds\"][\"RoundWinner\"])"
   ]
  },
  {
   "cell_type": "code",
   "execution_count": 6,
   "metadata": {},
   "outputs": [
    {
     "data": {
      "text/html": [
       "<div>\n",
       "<style scoped>\n",
       "    .dataframe tbody tr th:only-of-type {\n",
       "        vertical-align: middle;\n",
       "    }\n",
       "\n",
       "    .dataframe tbody tr th {\n",
       "        vertical-align: top;\n",
       "    }\n",
       "\n",
       "    .dataframe thead th {\n",
       "        text-align: right;\n",
       "    }\n",
       "</style>\n",
       "<table border=\"1\" class=\"dataframe\">\n",
       "  <thead>\n",
       "    <tr style=\"text-align: right;\">\n",
       "      <th></th>\n",
       "      <th>RoundWinner</th>\n",
       "      <th>RoundsT</th>\n",
       "      <th>RoundsCT</th>\n",
       "    </tr>\n",
       "  </thead>\n",
       "  <tbody>\n",
       "    <tr>\n",
       "      <th>0</th>\n",
       "      <td>SKADE</td>\n",
       "      <td>6</td>\n",
       "      <td>10</td>\n",
       "    </tr>\n",
       "    <tr>\n",
       "      <th>1</th>\n",
       "      <td>Young Ninjas</td>\n",
       "      <td>5</td>\n",
       "      <td>1</td>\n",
       "    </tr>\n",
       "  </tbody>\n",
       "</table>\n",
       "</div>"
      ],
      "text/plain": [
       "    RoundWinner  RoundsT  RoundsCT\n",
       "0         SKADE        6        10\n",
       "1  Young Ninjas        5         1"
      ]
     },
     "execution_count": 6,
     "metadata": {},
     "output_type": "execute_result"
    }
   ],
   "source": [
    "rounds_t = demo_data[\"Rounds\"][demo_data[\"Rounds\"][\"RoundWinnerSide\"] == \"T\"].groupby(\"RoundWinner\").size().reset_index(name=\"RoundsT\")\n",
    "if len(rounds_t) < 2:\n",
    "    res_t = next((i for i, x in enumerate(teams) if not x == rounds_t[\"RoundWinner\"][0]), None)\n",
    "    rounds_t = rounds_t.append(pd.DataFrame({\"RoundWinner\": [teams[res_t]], \"RoundsT\" : [0]}),ignore_index=True)\n",
    "rounds_ct = demo_data[\"Rounds\"][demo_data[\"Rounds\"][\"RoundWinnerSide\"] == \"CT\"].groupby(\"RoundWinner\").size().reset_index(name=\"RoundsCT\")\n",
    "if len(rounds_ct) < 2:\n",
    "    res_t = next((i for i, x in enumerate(teams) if not x == rounds_ct[\"RoundWinner\"][0]), None)\n",
    "    rounds_ct = rounds_ct.append(pd.DataFrame({\"RoundWinner\": [teams[res_t]], \"RoundsCT\" : [0]}),ignore_index=True)\n",
    "\n",
    "rounds = rounds_t.merge(rounds_ct,left_on='RoundWinner', right_on='RoundWinner')\n",
    "rounds"
   ]
  },
  {
   "cell_type": "code",
   "execution_count": 23,
   "metadata": {
    "scrolled": false
   },
   "outputs": [
    {
     "name": "stderr",
     "output_type": "stream",
     "text": [
      "<ipython-input-23-b318899ab473>:21: FutureWarning: Indexing with multiple keys (implicitly converted to a tuple of keys) will be deprecated, use a list instead.\n",
      "  adr = (data[\"Damages\"].groupby([\"AttackerName\"])[\"HpDamageArmor\", \"KillHpDamageArmor\"].sum()/total_rounds).reset_index()\n"
     ]
    },
    {
     "data": {
      "text/plain": [
       "0     Duplicate\n",
       "1           LNZ\n",
       "2        Mann3n\n",
       "3     Rainwaker\n",
       "4     SHiPZ1017\n",
       "5         Sapec\n",
       "6     dennyslaw\n",
       "7          nilo\n",
       "8    oxygen1735\n",
       "9          phzy\n",
       "Name: PlayerName, dtype: object"
      ]
     },
     "execution_count": 23,
     "metadata": {},
     "output_type": "execute_result"
    }
   ],
   "source": [
    "def getPlayerInfo (data):\n",
    "    kill_data = data[\"Kills\"]\n",
    "    kills =  kill_data.groupby([\"AttackerName\"]).size().reset_index(name=\"Kills\")\n",
    "    deaths =  kill_data.groupby([\"VictimName\"]).size().reset_index(name=\"Deaths\")\n",
    "    total_rounds = data[\"Rounds\"].shape[0]\n",
    "    kills[\"Entries\"] = np.zeros(kills.shape[0],dtype=int)\n",
    "    for ind,kill in enumerate(kill_data[\"RoundNum\"], start=0):\n",
    "        if (ind == 0) :\n",
    "            kills.loc[kills[\"AttackerName\"] == kill_data[\"AttackerName\"][ind], \"Entries\"] += 1\n",
    "            continue\n",
    "        if (kill_data[\"RoundNum\"][ind - 1] != kill_data[\"RoundNum\"][ind]):\n",
    "            kills.loc[kills[\"AttackerName\"] == kill_data[\"AttackerName\"][ind], \"Entries\"] += 1\n",
    "            continue\n",
    "        kills= kills[kills[\"AttackerName\"] != \"NA\"] \n",
    "    # Add Armor damage to the HP damage for each damage entry to get total damage\n",
    "    data[\"Damages\"][\"HpDamageArmor\"] = data[\"Damages\"][\"HpDamage\"] + data[\"Damages\"][\"ArmorDamage\"]\n",
    "    data[\"Damages\"][\"KillHpDamageArmor\"] = data[\"Damages\"][\"KillHpDamage\"] + data[\"Damages\"][\"ArmorDamage\"]\n",
    "    #Perctange headshots \n",
    "    head_per = data[\"Kills\"].groupby(\"AttackerName\").IsHeadshot.mean().reset_index(name=\"HeadShotPct\")\n",
    "    # Calculate\n",
    "    adr = (data[\"Damages\"].groupby([\"AttackerName\"])[\"HpDamageArmor\", \"KillHpDamageArmor\"].sum()/total_rounds).reset_index()\n",
    "    adr.columns = [\"PlayerName\", \"RawADR\", \"NormADR\"]\n",
    "    adr = adr[adr[\"PlayerName\"] != \"NA\"]\n",
    "    final_data = kills.merge(deaths, left_on=\"AttackerName\", right_on=\"VictimName\").merge(adr, left_on=\"VictimName\", right_on =\"PlayerName\")\n",
    "    final_data = final_data.merge(head_per,left_on=\"AttackerName\", right_on=\"AttackerName\" )\n",
    "    final_data = final_data[[\"PlayerName\", \"Kills\", \"Deaths\", \"NormADR\",\"HeadShotPct\", \"Entries\"]]\n",
    "    return final_data\n",
    "getPlayerInfo(demo_data)[\"PlayerName\"]\n",
    "# smoke_thrown = data[\"Grenades\"][data[\"Grenades\"][\"GrenadeType\"].isin([\"Smoke\"])].groupby(\"PlayerName\").size().reset_index(name=\"SmokeThrown\")\n",
    "# # You can also write the demofile data to JSON using\n",
    "# smoke_thrown\n",
    "# demo_data[\"Kills\"]\n",
    "# list(filter(lambda x: x > 1, demo_data[\"Kills\"][\"RoundNum\"]))\n"
   ]
  },
  {
   "cell_type": "code",
   "execution_count": null,
   "metadata": {},
   "outputs": [],
   "source": []
  },
  {
   "cell_type": "code",
   "execution_count": 8,
   "metadata": {},
   "outputs": [
    {
     "name": "stderr",
     "output_type": "stream",
     "text": [
      "<ipython-input-8-1e219f6828a4>:2: UserWarning: Boolean Series key will be reindexed to match DataFrame index.\n",
      "  plant_a = demo_data[\"BombEvents\"][demo_data[\"BombEvents\"][\"EventType\"] == \"Plant\"][demo_data[\"BombEvents\"][\"BombSite\"] == \"A\"].groupby(\"Team\").size().reset_index(name=\"PlantOnA\")\n",
      "<ipython-input-8-1e219f6828a4>:3: UserWarning: Boolean Series key will be reindexed to match DataFrame index.\n",
      "  plant_b = demo_data[\"BombEvents\"][demo_data[\"BombEvents\"][\"EventType\"] == \"Plant\"][demo_data[\"BombEvents\"][\"BombSite\"] == \"B\"].groupby(\"Team\").size().reset_index(name=\"PlantOnB\")\n",
      "<ipython-input-8-1e219f6828a4>:17: UserWarning: Boolean Series key will be reindexed to match DataFrame index.\n",
      "  defuses_a = demo_data[\"BombEvents\"][demo_data[\"BombEvents\"][\"EventType\"] == \"Defuse\"][demo_data[\"BombEvents\"][\"BombSite\"] == \"A\"].groupby(\"Team\").size().reset_index(name=\"DefuseOnA\")\n",
      "<ipython-input-8-1e219f6828a4>:18: UserWarning: Boolean Series key will be reindexed to match DataFrame index.\n",
      "  defuses_b = demo_data[\"BombEvents\"][demo_data[\"BombEvents\"][\"EventType\"] == \"Defuse\"][demo_data[\"BombEvents\"][\"BombSite\"] == \"B\"].groupby(\"Team\").size().reset_index(name=\"DefuseOnB\")\n"
     ]
    },
    {
     "data": {
      "text/html": [
       "<div>\n",
       "<style scoped>\n",
       "    .dataframe tbody tr th:only-of-type {\n",
       "        vertical-align: middle;\n",
       "    }\n",
       "\n",
       "    .dataframe tbody tr th {\n",
       "        vertical-align: top;\n",
       "    }\n",
       "\n",
       "    .dataframe thead th {\n",
       "        text-align: right;\n",
       "    }\n",
       "</style>\n",
       "<table border=\"1\" class=\"dataframe\">\n",
       "  <thead>\n",
       "    <tr style=\"text-align: right;\">\n",
       "      <th></th>\n",
       "      <th>Team</th>\n",
       "      <th>PlantOnA</th>\n",
       "      <th>PlantOnB</th>\n",
       "      <th>DefuseOnA</th>\n",
       "      <th>DefuseOnB</th>\n",
       "      <th>SucPercA</th>\n",
       "      <th>SucPercB</th>\n",
       "      <th>ClearRoundsCT</th>\n",
       "    </tr>\n",
       "  </thead>\n",
       "  <tbody>\n",
       "    <tr>\n",
       "      <th>0</th>\n",
       "      <td>SKADE</td>\n",
       "      <td>2</td>\n",
       "      <td>3</td>\n",
       "      <td>0</td>\n",
       "      <td>1</td>\n",
       "      <td>0.5</td>\n",
       "      <td>1.0</td>\n",
       "      <td>9</td>\n",
       "    </tr>\n",
       "    <tr>\n",
       "      <th>1</th>\n",
       "      <td>Young Ninjas</td>\n",
       "      <td>4</td>\n",
       "      <td>2</td>\n",
       "      <td>1</td>\n",
       "      <td>0</td>\n",
       "      <td>1.0</td>\n",
       "      <td>0.5</td>\n",
       "      <td>0</td>\n",
       "    </tr>\n",
       "  </tbody>\n",
       "</table>\n",
       "</div>"
      ],
      "text/plain": [
       "           Team  PlantOnA  PlantOnB  DefuseOnA  DefuseOnB  SucPercA  SucPercB  \\\n",
       "0         SKADE         2         3          0          1       0.5       1.0   \n",
       "1  Young Ninjas         4         2          1          0       1.0       0.5   \n",
       "\n",
       "   ClearRoundsCT  \n",
       "0              9  \n",
       "1              0  "
      ]
     },
     "execution_count": 8,
     "metadata": {},
     "output_type": "execute_result"
    }
   ],
   "source": [
    "# Считаем количество поставленных бомб на разные планты \n",
    "plant_a = demo_data[\"BombEvents\"][demo_data[\"BombEvents\"][\"EventType\"] == \"Plant\"][demo_data[\"BombEvents\"][\"BombSite\"] == \"A\"].groupby(\"Team\").size().reset_index(name=\"PlantOnA\")\n",
    "plant_b = demo_data[\"BombEvents\"][demo_data[\"BombEvents\"][\"EventType\"] == \"Plant\"][demo_data[\"BombEvents\"][\"BombSite\"] == \"B\"].groupby(\"Team\").size().reset_index(name=\"PlantOnB\")\n",
    "# Если на а или б ни разу не поставили бомбу\n",
    "if plant_a.empty or plant_b.empty:\n",
    "    plants_a = pd.DataFrame({'Team': teams, 'PlantOnA': [0,0]}) if plant_a.empty else plants_a\n",
    "    plants_b =  pd.DataFrame({'Team': teams, 'PlantOnB': [0,0]})if plant_b.empty else plants_b\n",
    "# Если какая-либо из команд не поставила ни разу бомбу на плант а или б\n",
    "if len(plant_a) < 2 :\n",
    "    res_t = next((i for i, x in enumerate(teams) if not x == plant_a[\"Team\"][0]), None)\n",
    "    plants_a = plants_a.append(pd.DataFrame({\"Team\": [teams[res_t]], \"PlantOnA\" : [0]}),ignore_index=True)\n",
    "if len(plant_b) < 2 :\n",
    "    res_t = next((i for i, x in enumerate(teams) if not x == plant_b[\"Team\"][0]), None)\n",
    "    plants_b = plants_b.append(pd.DataFrame({\"Team\": [teams[res_t]], \"PlantOnB\" : [0]}),ignore_index=True)\n",
    "plants = plant_a.merge(plant_b, left_on=\"Team\", right_on=\"Team\")\n",
    "\n",
    "defuses_a = demo_data[\"BombEvents\"][demo_data[\"BombEvents\"][\"EventType\"] == \"Defuse\"][demo_data[\"BombEvents\"][\"BombSite\"] == \"A\"].groupby(\"Team\").size().reset_index(name=\"DefuseOnA\")\n",
    "defuses_b = demo_data[\"BombEvents\"][demo_data[\"BombEvents\"][\"EventType\"] == \"Defuse\"][demo_data[\"BombEvents\"][\"BombSite\"] == \"B\"].groupby(\"Team\").size().reset_index(name=\"DefuseOnB\")\n",
    "if defuses_a.empty or defuses_b.empty:\n",
    "    defuses_a = pd.DataFrame({'Team': teams, 'DefuseOnA': [0,0]}) if defuses_a.empty else defuses_a\n",
    "    defuses_b = pd.DataFrame({'Team': teams, 'DefuseOnB': [0,0]}) if defuses_b.empty else defuses_b\n",
    "# Если какая-либо из команд не задифьюзела ни разу бомбу на а или б\n",
    "if len(defuses_a) < 2 :\n",
    "    res_t = next((i for i, x in enumerate(teams) if not x == defuses_a[\"Team\"][0]), None)\n",
    "    defuses_a = defuses_a.append(pd.DataFrame({\"Team\": [teams[res_t]], \"DefuseOnA\" : [0]}),ignore_index=True)\n",
    "if len(defuses_b) < 2 :\n",
    "    res_t = next((i for i, x in enumerate(teams) if not x == defuses_b[\"Team\"][0]), None)\n",
    "    defuses_b = defuses_b.append(pd.DataFrame({\"Team\": [teams[res_t]], \"DefuseOnB\" : [0]}),ignore_index=True)\n",
    "plants = plant_a.merge(plant_b, left_on=\"Team\", right_on=\"Team\")\n",
    "defuses = defuses_a.merge(defuses_b, left_on=\"Team\", right_on=\"Team\")\n",
    "\n",
    "\n",
    "rounds_bombs = plants.merge(defuses, left_on=\"Team\", right_on=\"Team\")\n",
    "rounds_bombs[\"SucPercA\"] = (rounds_bombs[\"PlantOnA\"] - rounds_bombs[\"DefuseOnA\"].iloc[::-1].values) / rounds_bombs[\"PlantOnA\"]\n",
    "rounds_bombs[\"SucPercB\"] = (rounds_bombs[\"PlantOnB\"] - rounds_bombs[\"DefuseOnB\"].iloc[::-1].values) / rounds_bombs[\"PlantOnB\"]\n",
    "rounds_bombs\n",
    "clear = demo_data[\"Rounds\"][demo_data[\"Rounds\"][\"Reason\"].isin([\"CTWin\", \"TargetSaved\"])].groupby(\"RoundWinner\").size().reset_index(name=\"ClearRoundsCT\")\n",
    "if clear.empty:\n",
    "    clear = pd.DataFrame({'Team': teams, 'ClearRoundsCT': [0,0]})\n",
    "else:\n",
    "    if len(clear[\"RoundWinner\"]) < 2:\n",
    "        res_t = next((i for i, x in enumerate(teams) if not x == clear[\"RoundWinner\"][0]), None)\n",
    "        clear = clear.append(pd.DataFrame({\"RoundWinner\": [teams[res_t]], \"ClearRoundsCT\" : [0]}),ignore_index=True)\n",
    "clear.columns = [\"Team\",\"ClearRoundsCT\"]\n",
    "rounds_bombs = rounds_bombs.merge(clear, left_on=\"Team\", right_on=\"Team\")\n",
    "rounds_bombs\n",
    "\n",
    "\n",
    "\n"
   ]
  },
  {
   "cell_type": "code",
   "execution_count": 27,
   "metadata": {},
   "outputs": [
    {
     "name": "stderr",
     "output_type": "stream",
     "text": [
      "<ipython-input-27-9fb8b3fa5828>:3: UserWarning: Boolean Series key will be reindexed to match DataFrame index.\n",
      "  flash_thrown_ct = demo_data[\"Grenades\"][demo_data[\"Grenades\"][\"GrenadeType\"].isin([\"Flash\"])][demo_data[\"Grenades\"][\"Side\"] == \"CT\"].groupby(\"Team\").size().reset_index(name=\"FlashCT\")\n",
      "<ipython-input-27-9fb8b3fa5828>:4: UserWarning: Boolean Series key will be reindexed to match DataFrame index.\n",
      "  flash_thrown_t = demo_data[\"Grenades\"][demo_data[\"Grenades\"][\"GrenadeType\"].isin([\"Flash\"])][demo_data[\"Grenades\"][\"Side\"] == \"T\"].groupby(\"Team\").size().reset_index(name=\"FlashT\")\n"
     ]
    },
    {
     "data": {
      "text/html": [
       "<div>\n",
       "<style scoped>\n",
       "    .dataframe tbody tr th:only-of-type {\n",
       "        vertical-align: middle;\n",
       "    }\n",
       "\n",
       "    .dataframe tbody tr th {\n",
       "        vertical-align: top;\n",
       "    }\n",
       "\n",
       "    .dataframe thead th {\n",
       "        text-align: right;\n",
       "    }\n",
       "</style>\n",
       "<table border=\"1\" class=\"dataframe\">\n",
       "  <thead>\n",
       "    <tr style=\"text-align: right;\">\n",
       "      <th></th>\n",
       "      <th>Team</th>\n",
       "      <th>Smoke</th>\n",
       "      <th>FlashCT</th>\n",
       "      <th>AvgFlashesCT</th>\n",
       "      <th>FlashT</th>\n",
       "      <th>AvgFlashesT</th>\n",
       "      <th>UtilityDamage</th>\n",
       "      <th>PlantOnA</th>\n",
       "      <th>PlantOnB</th>\n",
       "      <th>DefuseOnA</th>\n",
       "      <th>DefuseOnB</th>\n",
       "      <th>SucPercA</th>\n",
       "      <th>SucPercB</th>\n",
       "      <th>ClearRoundsCT</th>\n",
       "    </tr>\n",
       "  </thead>\n",
       "  <tbody>\n",
       "    <tr>\n",
       "      <th>0</th>\n",
       "      <td>SKADE</td>\n",
       "      <td>58.0</td>\n",
       "      <td>17</td>\n",
       "      <td>1.133333</td>\n",
       "      <td>17</td>\n",
       "      <td>2.428571</td>\n",
       "      <td>1491</td>\n",
       "      <td>2</td>\n",
       "      <td>3</td>\n",
       "      <td>0</td>\n",
       "      <td>1</td>\n",
       "      <td>0.5</td>\n",
       "      <td>1.0</td>\n",
       "      <td>9</td>\n",
       "    </tr>\n",
       "    <tr>\n",
       "      <th>1</th>\n",
       "      <td>Young Ninjas</td>\n",
       "      <td>44.0</td>\n",
       "      <td>12</td>\n",
       "      <td>0.800000</td>\n",
       "      <td>52</td>\n",
       "      <td>7.428571</td>\n",
       "      <td>470</td>\n",
       "      <td>4</td>\n",
       "      <td>2</td>\n",
       "      <td>1</td>\n",
       "      <td>0</td>\n",
       "      <td>1.0</td>\n",
       "      <td>0.5</td>\n",
       "      <td>0</td>\n",
       "    </tr>\n",
       "  </tbody>\n",
       "</table>\n",
       "</div>"
      ],
      "text/plain": [
       "           Team  Smoke  FlashCT  AvgFlashesCT  FlashT  AvgFlashesT  \\\n",
       "0         SKADE   58.0       17      1.133333      17     2.428571   \n",
       "1  Young Ninjas   44.0       12      0.800000      52     7.428571   \n",
       "\n",
       "   UtilityDamage  PlantOnA  PlantOnB  DefuseOnA  DefuseOnB  SucPercA  \\\n",
       "0           1491         2         3          0          1       0.5   \n",
       "1            470         4         2          1          0       1.0   \n",
       "\n",
       "   SucPercB  ClearRoundsCT  \n",
       "0       1.0              9  \n",
       "1       0.5              0  "
      ]
     },
     "execution_count": 27,
     "metadata": {},
     "output_type": "execute_result"
    }
   ],
   "source": [
    "nade_dmg = demo_data[\"Damages\"][demo_data[\"Damages\"][\"Weapon\"].isin([\"Incendiary\", \"Molotov\", \"HE\"])]\n",
    "smoke_thrown = demo_data[\"Grenades\"][demo_data[\"Grenades\"][\"GrenadeType\"].isin([\"Smoke\"])].groupby(\"Team\").size().reset_index(name=\"Smoke\")\n",
    "flash_thrown_ct = demo_data[\"Grenades\"][demo_data[\"Grenades\"][\"GrenadeType\"].isin([\"Flash\"])][demo_data[\"Grenades\"][\"Side\"] == \"CT\"].groupby(\"Team\").size().reset_index(name=\"FlashCT\")\n",
    "flash_thrown_t = demo_data[\"Grenades\"][demo_data[\"Grenades\"][\"GrenadeType\"].isin([\"Flash\"])][demo_data[\"Grenades\"][\"Side\"] == \"T\"].groupby(\"Team\").size().reset_index(name=\"FlashT\")\n",
    "#smoke_thrown.div(2)\n",
    "smoke_thrown[\"Smoke\"] = round(smoke_thrown[\"Smoke\"] / 2)\n",
    "grenades = smoke_thrown.join(flash_thrown_ct, lsuffix='', rsuffix='_other')\n",
    "grenades = grenades.merge(flash_thrown_t,left_on='Team', right_on=\"Team\")\n",
    "flashes_avg_ct = flash_thrown_ct[\"FlashCT\"] / (rounds[\"RoundsCT\"][0] + rounds[\"RoundsT\"][1])\n",
    "flashes_avg_t = flash_thrown_t[\"FlashT\"] / (rounds[\"RoundsCT\"][1] + rounds[\"RoundsT\"][0])\n",
    "nade_dmg_df = nade_dmg.groupby(\"AttackerTeam\").HpDamage.sum().reset_index(name=\"UtilityDamage\").sort_values(\"UtilityDamage\", ascending=False)\n",
    "grenades = grenades.merge(nade_dmg_df, left_on='Team', right_on='AttackerTeam')\n",
    "grenades[\"AvgFlashesCT\"] = flashes_avg_ct\n",
    "grenades[\"AvgFlashesT\"] = flashes_avg_t\n",
    "grenades = grenades [[\"Team\", \"Smoke\", \"FlashCT\",\"AvgFlashesCT\", \"FlashT\", \"AvgFlashesT\", \"UtilityDamage\"]]\n",
    "grenades\n",
    "datInfo = grenades.merge(rounds_bombs, left_on=\"Team\", right_on=\"Team\")\n",
    "datInfo"
   ]
  },
  {
   "cell_type": "code",
   "execution_count": 14,
   "metadata": {},
   "outputs": [
    {
     "data": {
      "text/html": [
       "<div>\n",
       "<style scoped>\n",
       "    .dataframe tbody tr th:only-of-type {\n",
       "        vertical-align: middle;\n",
       "    }\n",
       "\n",
       "    .dataframe tbody tr th {\n",
       "        vertical-align: top;\n",
       "    }\n",
       "\n",
       "    .dataframe thead th {\n",
       "        text-align: right;\n",
       "    }\n",
       "</style>\n",
       "<table border=\"1\" class=\"dataframe\">\n",
       "  <thead>\n",
       "    <tr style=\"text-align: right;\">\n",
       "      <th></th>\n",
       "      <th>MatchId</th>\n",
       "      <th>MapName</th>\n",
       "      <th>RoundNum</th>\n",
       "      <th>Tick</th>\n",
       "      <th>Second</th>\n",
       "      <th>VictimX</th>\n",
       "      <th>VictimY</th>\n",
       "      <th>VictimZ</th>\n",
       "      <th>VictimXViz</th>\n",
       "      <th>VictimYViz</th>\n",
       "      <th>VictimViewX</th>\n",
       "      <th>VictimViewY</th>\n",
       "      <th>VictimAreaId</th>\n",
       "      <th>VictimAreaName</th>\n",
       "      <th>AttackerX</th>\n",
       "      <th>AttackerY</th>\n",
       "      <th>AttackerZ</th>\n",
       "      <th>AttackerXViz</th>\n",
       "      <th>AttackerYViz</th>\n",
       "      <th>AttackerViewX</th>\n",
       "      <th>AttackerViewY</th>\n",
       "      <th>AttackerAreaId</th>\n",
       "      <th>AttackerAreaName</th>\n",
       "      <th>VictimSteamId</th>\n",
       "      <th>VictimName</th>\n",
       "      <th>VictimTeam</th>\n",
       "      <th>VictimSide</th>\n",
       "      <th>VictimTeamEqVal</th>\n",
       "      <th>AttackerSteamId</th>\n",
       "      <th>AttackerName</th>\n",
       "      <th>AttackerTeam</th>\n",
       "      <th>AttackerSide</th>\n",
       "      <th>AttackerTeamEqVal</th>\n",
       "      <th>HpDamage</th>\n",
       "      <th>KillHpDamage</th>\n",
       "      <th>ArmorDamage</th>\n",
       "      <th>Weapon</th>\n",
       "      <th>HitGroup</th>\n",
       "      <th>HpDamageArmor</th>\n",
       "      <th>KillHpDamageArmor</th>\n",
       "    </tr>\n",
       "  </thead>\n",
       "  <tbody>\n",
       "  </tbody>\n",
       "</table>\n",
       "</div>"
      ],
      "text/plain": [
       "Empty DataFrame\n",
       "Columns: [MatchId, MapName, RoundNum, Tick, Second, VictimX, VictimY, VictimZ, VictimXViz, VictimYViz, VictimViewX, VictimViewY, VictimAreaId, VictimAreaName, AttackerX, AttackerY, AttackerZ, AttackerXViz, AttackerYViz, AttackerViewX, AttackerViewY, AttackerAreaId, AttackerAreaName, VictimSteamId, VictimName, VictimTeam, VictimSide, VictimTeamEqVal, AttackerSteamId, AttackerName, AttackerTeam, AttackerSide, AttackerTeamEqVal, HpDamage, KillHpDamage, ArmorDamage, Weapon, HitGroup, HpDamageArmor, KillHpDamageArmor]\n",
       "Index: []"
      ]
     },
     "execution_count": 14,
     "metadata": {},
     "output_type": "execute_result"
    }
   ],
   "source": [
    "demo_data[\"Damages\"][demo_data[\"Damages\"][\"Weapon\"] == \"Flash\"]"
   ]
  },
  {
   "cell_type": "code",
   "execution_count": 15,
   "metadata": {},
   "outputs": [
    {
     "data": {
      "text/html": [
       "<div>\n",
       "<style scoped>\n",
       "    .dataframe tbody tr th:only-of-type {\n",
       "        vertical-align: middle;\n",
       "    }\n",
       "\n",
       "    .dataframe tbody tr th {\n",
       "        vertical-align: top;\n",
       "    }\n",
       "\n",
       "    .dataframe thead th {\n",
       "        text-align: right;\n",
       "    }\n",
       "</style>\n",
       "<table border=\"1\" class=\"dataframe\">\n",
       "  <thead>\n",
       "    <tr style=\"text-align: right;\">\n",
       "      <th></th>\n",
       "      <th>RoundWinner</th>\n",
       "      <th>RoundsT</th>\n",
       "      <th>RoundsCT</th>\n",
       "    </tr>\n",
       "  </thead>\n",
       "  <tbody>\n",
       "    <tr>\n",
       "      <th>0</th>\n",
       "      <td>SKADE</td>\n",
       "      <td>6</td>\n",
       "      <td>10</td>\n",
       "    </tr>\n",
       "    <tr>\n",
       "      <th>1</th>\n",
       "      <td>Young Ninjas</td>\n",
       "      <td>5</td>\n",
       "      <td>1</td>\n",
       "    </tr>\n",
       "  </tbody>\n",
       "</table>\n",
       "</div>"
      ],
      "text/plain": [
       "    RoundWinner  RoundsT  RoundsCT\n",
       "0         SKADE        6        10\n",
       "1  Young Ninjas        5         1"
      ]
     },
     "execution_count": 15,
     "metadata": {},
     "output_type": "execute_result"
    }
   ],
   "source": [
    "rounds"
   ]
  },
  {
   "cell_type": "code",
   "execution_count": 16,
   "metadata": {},
   "outputs": [
    {
     "ename": "TypeError",
     "evalue": "parse() got an unexpected keyword argument 'df'",
     "output_type": "error",
     "traceback": [
      "\u001b[0;31m---------------------------------------------------------------------------\u001b[0m",
      "\u001b[0;31mTypeError\u001b[0m                                 Traceback (most recent call last)",
      "\u001b[0;32m<ipython-input-16-789c7db98e45>\u001b[0m in \u001b[0;36m<module>\u001b[0;34m\u001b[0m\n\u001b[0;32m----> 1\u001b[0;31m \u001b[0mdf\u001b[0m \u001b[0;34m=\u001b[0m \u001b[0mdemo_parser\u001b[0m\u001b[0;34m.\u001b[0m\u001b[0mparse\u001b[0m\u001b[0;34m(\u001b[0m\u001b[0mdf\u001b[0m \u001b[0;34m=\u001b[0m \u001b[0;32mTrue\u001b[0m\u001b[0;34m)\u001b[0m\u001b[0;34m\u001b[0m\u001b[0;34m\u001b[0m\u001b[0m\n\u001b[0m",
      "\u001b[0;31mTypeError\u001b[0m: parse() got an unexpected keyword argument 'df'"
     ]
    }
   ],
   "source": [
    "df = demo_parser.parse(df = True)"
   ]
  },
  {
   "cell_type": "code",
   "execution_count": 25,
   "metadata": {},
   "outputs": [
    {
     "name": "stderr",
     "output_type": "stream",
     "text": [
      "<ipython-input-23-b318899ab473>:21: FutureWarning: Indexing with multiple keys (implicitly converted to a tuple of keys) will be deprecated, use a list instead.\n",
      "  adr = (data[\"Damages\"].groupby([\"AttackerName\"])[\"HpDamageArmor\", \"KillHpDamageArmor\"].sum()/total_rounds).reset_index()\n"
     ]
    },
    {
     "data": {
      "image/png": "[encoded data removed]",
      "text/plain": [
       "<Figure size 432x288 with 1 Axes>"
      ]
     },
     "metadata": {
      "needs_background": "light"
     },
     "output_type": "display_data"
    },
    {
     "data": {
      "image/png": "[encoded data removed]",
      "text/plain": [
       "<Figure size 432x288 with 1 Axes>"
      ]
     },
     "metadata": {
      "needs_background": "light"
     },
     "output_type": "display_data"
    },
    {
     "data": {
      "image/png": "[encoded data removed]",
      "text/plain": [
       "<Figure size 432x288 with 1 Axes>"
      ]
     },
     "metadata": {
      "needs_background": "light"
     },
     "output_type": "display_data"
    },
    {
     "data": {
      "image/png": "[encoded data removed]",
      "text/plain": [
       "<Figure size 432x288 with 1 Axes>"
      ]
     },
     "metadata": {
      "needs_background": "light"
     },
     "output_type": "display_data"
    },
    {
     "data": {
      "image/png": "[encoded data removed]",
      "text/plain": [
       "<Figure size 432x288 with 1 Axes>"
      ]
     },
     "metadata": {
      "needs_background": "light"
     },
     "output_type": "display_data"
    },
    {
     "data": {
      "image/png": "[encoded data removed]",
      "text/plain": [
       "<Figure size 432x288 with 1 Axes>"
      ]
     },
     "metadata": {
      "needs_background": "light"
     },
     "output_type": "display_data"
    },
    {
     "data": {
      "image/png": "[encoded data removed]",
      "text/plain": [
       "<Figure size 432x288 with 1 Axes>"
      ]
     },
     "metadata": {
      "needs_background": "light"
     },
     "output_type": "display_data"
    },
    {
     "data": {
      "image/png": "[encoded data removed]",
      "text/plain": [
       "<Figure size 432x288 with 1 Axes>"
      ]
     },
     "metadata": {
      "needs_background": "light"
     },
     "output_type": "display_data"
    },
    {
     "data": {
      "image/png": "[encoded data removed]",
      "text/plain": [
       "<Figure size 432x288 with 1 Axes>"
      ]
     },
     "metadata": {
      "needs_background": "light"
     },
     "output_type": "display_data"
    },
    {
     "data": {
      "image/png": "[encoded data removed]",
      "text/plain": [
       "<Figure size 432x288 with 1 Axes>"
      ]
     },
     "metadata": {
      "needs_background": "light"
     },
     "output_type": "display_data"
    }
   ],
   "source": [
    "\n",
    "import matplotlib.pyplot as plt\n",
    "for player in getPlayerInfo(demo_data)[\"PlayerName\"]:\n",
    "    ticks = frame_data.sort_values(by=['Tick'])\n",
    "    ticks = ticks [ticks[\"Hp\"] > 0]\n",
    "    ticks = ticks[ticks[\"TicksSinceStart\"] != '0']\n",
    "    playersPos = ticks[['PlayerName','X', 'Y']].groupby('PlayerName').agg(list)\n",
    "    plt.hist2d(playersPos[\"X\"][player],playersPos[\"Y\"][player],bins=40)\n",
    "\n",
    "    plt.show()\n"
   ]
  },
  {
   "cell_type": "code",
   "execution_count": 19,
   "metadata": {},
   "outputs": [
    {
     "data": {
      "text/html": [
       "<div>\n",
       "<style scoped>\n",
       "    .dataframe tbody tr th:only-of-type {\n",
       "        vertical-align: middle;\n",
       "    }\n",
       "\n",
       "    .dataframe tbody tr th {\n",
       "        vertical-align: top;\n",
       "    }\n",
       "\n",
       "    .dataframe thead th {\n",
       "        text-align: right;\n",
       "    }\n",
       "</style>\n",
       "<table border=\"1\" class=\"dataframe\">\n",
       "  <thead>\n",
       "    <tr style=\"text-align: right;\">\n",
       "      <th></th>\n",
       "      <th>X</th>\n",
       "      <th>Y</th>\n",
       "    </tr>\n",
       "    <tr>\n",
       "      <th>PlayerName</th>\n",
       "      <th></th>\n",
       "      <th></th>\n",
       "    </tr>\n",
       "  </thead>\n",
       "  <tbody>\n",
       "    <tr>\n",
       "      <th>Duplicate</th>\n",
       "      <td>[2367.0, 2367.0, 2367.0, 2367.0, 2367.0, 2367....</td>\n",
       "      <td>[2073.0, 2073.0, 2073.0, 2073.0, 2073.0, 2073....</td>\n",
       "    </tr>\n",
       "    <tr>\n",
       "      <th>LNZ</th>\n",
       "      <td>[-1586.52002, -1586.52002, -1586.52002, -1586....</td>\n",
       "      <td>[440.790009, 440.790009, 440.790009, 440.79000...</td>\n",
       "    </tr>\n",
       "    <tr>\n",
       "      <th>Mann3n</th>\n",
       "      <td>[-1547.0, -1547.0, -1547.0, -1547.0, -1547.0, ...</td>\n",
       "      <td>[728.0, 728.0, 728.0, 728.0, 728.0, 728.0, 728...</td>\n",
       "    </tr>\n",
       "    <tr>\n",
       "      <th>Rainwaker</th>\n",
       "      <td>[2363.1298829999996, 2363.1298829999996, 2363....</td>\n",
       "      <td>[1985.660034, 1985.660034, 1985.660034, 1985.6...</td>\n",
       "    </tr>\n",
       "    <tr>\n",
       "      <th>SHiPZ1017</th>\n",
       "      <td>[2292.060059, 2292.060059, 2292.060059, 2292.0...</td>\n",
       "      <td>[2027.689941, 2027.689941, 2027.689941, 2027.6...</td>\n",
       "    </tr>\n",
       "    <tr>\n",
       "      <th>Sapec</th>\n",
       "      <td>[-1507.0, -1507.0, -1507.0, -1507.0, -1507.0, ...</td>\n",
       "      <td>[674.0, 674.0, 674.0, 674.0, 674.0, 674.0, 674...</td>\n",
       "    </tr>\n",
       "    <tr>\n",
       "      <th>dennyslaw</th>\n",
       "      <td>[2433.6201170000004, 2433.6201170000004, 2433....</td>\n",
       "      <td>[2157.409912, 2157.409912, 2157.409912, 2157.4...</td>\n",
       "    </tr>\n",
       "    <tr>\n",
       "      <th>nilo</th>\n",
       "      <td>[-1491.0, -1491.0, -1491.0, -1491.0, -1491.0, ...</td>\n",
       "      <td>[490.0, 490.0, 490.0, 490.0, 490.0, 490.0, 490...</td>\n",
       "    </tr>\n",
       "    <tr>\n",
       "      <th>oxygen1735</th>\n",
       "      <td>[2469.790039, 2469.790039, 2469.790039, 2469.7...</td>\n",
       "      <td>[2094.25, 2094.25, 2094.25, 2094.25, 2094.25, ...</td>\n",
       "    </tr>\n",
       "    <tr>\n",
       "      <th>phzy</th>\n",
       "      <td>[-1592.0, -1592.0, -1592.0, -1592.0, -1592.0, ...</td>\n",
       "      <td>[688.0, 688.0, 688.0, 688.0, 688.0, 688.0, 688...</td>\n",
       "    </tr>\n",
       "  </tbody>\n",
       "</table>\n",
       "</div>"
      ],
      "text/plain": [
       "                                                            X  \\\n",
       "PlayerName                                                      \n",
       "Duplicate   [2367.0, 2367.0, 2367.0, 2367.0, 2367.0, 2367....   \n",
       "LNZ         [-1586.52002, -1586.52002, -1586.52002, -1586....   \n",
       "Mann3n      [-1547.0, -1547.0, -1547.0, -1547.0, -1547.0, ...   \n",
       "Rainwaker   [2363.1298829999996, 2363.1298829999996, 2363....   \n",
       "SHiPZ1017   [2292.060059, 2292.060059, 2292.060059, 2292.0...   \n",
       "Sapec       [-1507.0, -1507.0, -1507.0, -1507.0, -1507.0, ...   \n",
       "dennyslaw   [2433.6201170000004, 2433.6201170000004, 2433....   \n",
       "nilo        [-1491.0, -1491.0, -1491.0, -1491.0, -1491.0, ...   \n",
       "oxygen1735  [2469.790039, 2469.790039, 2469.790039, 2469.7...   \n",
       "phzy        [-1592.0, -1592.0, -1592.0, -1592.0, -1592.0, ...   \n",
       "\n",
       "                                                            Y  \n",
       "PlayerName                                                     \n",
       "Duplicate   [2073.0, 2073.0, 2073.0, 2073.0, 2073.0, 2073....  \n",
       "LNZ         [440.790009, 440.790009, 440.790009, 440.79000...  \n",
       "Mann3n      [728.0, 728.0, 728.0, 728.0, 728.0, 728.0, 728...  \n",
       "Rainwaker   [1985.660034, 1985.660034, 1985.660034, 1985.6...  \n",
       "SHiPZ1017   [2027.689941, 2027.689941, 2027.689941, 2027.6...  \n",
       "Sapec       [674.0, 674.0, 674.0, 674.0, 674.0, 674.0, 674...  \n",
       "dennyslaw   [2157.409912, 2157.409912, 2157.409912, 2157.4...  \n",
       "nilo        [490.0, 490.0, 490.0, 490.0, 490.0, 490.0, 490...  \n",
       "oxygen1735  [2094.25, 2094.25, 2094.25, 2094.25, 2094.25, ...  \n",
       "phzy        [688.0, 688.0, 688.0, 688.0, 688.0, 688.0, 688...  "
      ]
     },
     "execution_count": 19,
     "metadata": {},
     "output_type": "execute_result"
    }
   ],
   "source": [
    "playersPos"
   ]
  },
  {
   "cell_type": "code",
   "execution_count": 20,
   "metadata": {},
   "outputs": [
    {
     "data": {
      "text/plain": [
       "{'Young Ninjas': [1, 1, 2, 1, 1], 'SKADE': [5, 1, 1, 3]}"
      ]
     },
     "execution_count": 20,
     "metadata": {},
     "output_type": "execute_result"
    }
   ],
   "source": [
    "def count_streak():\n",
    "    round_streaks = {teams[0]: [], teams[1] : []}\n",
    "    winner_round = ''\n",
    "    count = 0\n",
    "    for ind, win in enumerate(demo_data[\"Rounds\"][\"RoundWinner\"]):\n",
    "        if (ind == 0):\n",
    "            winner_round = demo_data[\"Rounds\"][\"RoundWinner\"][0]\n",
    "            count +=1 \n",
    "        else:\n",
    "            if (winner_round != demo_data[\"Rounds\"][\"RoundWinner\"][ind]):\n",
    "                round_streaks[winner_round].append(count)\n",
    "                count = 1\n",
    "                winner_round = demo_data[\"Rounds\"][\"RoundWinner\"][ind]\n",
    "            else: \n",
    "                count+=1\n",
    "    return round_streaks\n",
    "\n",
    "count_streak()"
   ]
  },
  {
   "cell_type": "code",
   "execution_count": null,
   "metadata": {},
   "outputs": [],
   "source": []
  }
 ],
 "metadata": {
  "kernelspec": {
   "display_name": "Python 3",
   "language": "python",
   "name": "python3"
  },
  "language_info": {
   "codemirror_mode": {
    "name": "ipython",
    "version": 3
   },
   "file_extension": ".py",
   "mimetype": "text/x-python",
   "name": "python",
   "nbconvert_exporter": "python",
   "pygments_lexer": "ipython3",
   "version": "3.8.5"
  }
 },
 "nbformat": 4,
 "nbformat_minor": 4
}
