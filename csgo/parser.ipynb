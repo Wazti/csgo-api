{
 "cells": [
  {
   "cell_type": "code",
   "execution_count": null,
   "metadata": {},
   "outputs": [],
   "source": []
  },
  {
   "cell_type": "code",
   "execution_count": 17,
   "metadata": {},
   "outputs": [
    {
     "name": "stdout",
     "output_type": "stream",
     "text": [
      "Requirement already satisfied: numpy in c:\\users\\ivan\\appdata\\local\\packages\\pythonsoftwarefoundation.python.3.9_qbz5n2kfra8p0\\localcache\\local-packages\\python39\\site-packages (1.20.2)\n",
      "Requirement already satisfied: pandas in c:\\users\\ivan\\appdata\\local\\packages\\pythonsoftwarefoundation.python.3.9_qbz5n2kfra8p0\\localcache\\local-packages\\python39\\site-packages (1.2.4)\n",
      "Requirement already satisfied: pytz>=2017.3 in c:\\users\\ivan\\appdata\\local\\packages\\pythonsoftwarefoundation.python.3.9_qbz5n2kfra8p0\\localcache\\local-packages\\python39\\site-packages (from pandas) (2021.1)\n",
      "Requirement already satisfied: numpy>=1.16.5 in c:\\users\\ivan\\appdata\\local\\packages\\pythonsoftwarefoundation.python.3.9_qbz5n2kfra8p0\\localcache\\local-packages\\python39\\site-packages (from pandas) (1.20.2)\n",
      "Requirement already satisfied: python-dateutil>=2.7.3 in c:\\users\\ivan\\appdata\\local\\packages\\pythonsoftwarefoundation.python.3.9_qbz5n2kfra8p0\\localcache\\local-packages\\python39\\site-packages (from pandas) (2.8.1)\n",
      "Requirement already satisfied: six>=1.5 in c:\\users\\ivan\\appdata\\local\\packages\\pythonsoftwarefoundation.python.3.9_qbz5n2kfra8p0\\localcache\\local-packages\\python39\\site-packages (from python-dateutil>=2.7.3->pandas) (1.15.0)\n"
     ]
    },
    {
     "ename": "TypeError",
     "evalue": "__init__() got an unexpected keyword argument 'parse_rate'",
     "output_type": "error",
     "traceback": [
      "\u001b[1;31m---------------------------------------------------------------------------\u001b[0m",
      "\u001b[1;31mTypeError\u001b[0m                                 Traceback (most recent call last)",
      "\u001b[1;32m<ipython-input-17-52384fe64ed9>\u001b[0m in \u001b[0;36m<module>\u001b[1;34m\u001b[0m\n\u001b[0;32m      9\u001b[0m \u001b[1;31m# Create parser object\u001b[0m\u001b[1;33m\u001b[0m\u001b[1;33m\u001b[0m\u001b[1;33m\u001b[0m\u001b[0m\n\u001b[0;32m     10\u001b[0m \u001b[1;31m# Set log=True above if you want to produce a logfile for the parser\u001b[0m\u001b[1;33m\u001b[0m\u001b[1;33m\u001b[0m\u001b[1;33m\u001b[0m\u001b[0m\n\u001b[1;32m---> 11\u001b[1;33m \u001b[0mdemo_parser\u001b[0m \u001b[1;33m=\u001b[0m \u001b[0mDemoParser\u001b[0m\u001b[1;33m(\u001b[0m\u001b[0mdemofile\u001b[0m \u001b[1;33m=\u001b[0m \u001b[1;34m\"DemoManager/SKADE/Inferno/18-04-2021&Young Ninjas.dem\"\u001b[0m\u001b[1;33m,\u001b[0m \u001b[0mmatch_id\u001b[0m \u001b[1;33m=\u001b[0m \u001b[1;34m\"big-vs-g2-dust\"\u001b[0m\u001b[1;33m,\u001b[0m \u001b[0mparse_rate\u001b[0m\u001b[1;33m=\u001b[0m\u001b[1;36m128\u001b[0m\u001b[1;33m)\u001b[0m\u001b[1;33m\u001b[0m\u001b[1;33m\u001b[0m\u001b[0m\n\u001b[0m\u001b[0;32m     12\u001b[0m \u001b[0mframe_parser\u001b[0m \u001b[1;33m=\u001b[0m \u001b[0mFrameParser\u001b[0m\u001b[1;33m(\u001b[0m\u001b[0mdemofile\u001b[0m \u001b[1;33m=\u001b[0m \u001b[1;34m\"DemoManager/SKADE/Inferno/18-04-2021&Young Ninjas.dem\"\u001b[0m\u001b[1;33m,\u001b[0m \u001b[0mmatch_id\u001b[0m \u001b[1;33m=\u001b[0m \u001b[1;34m\"big-vs-g2-dust\"\u001b[0m\u001b[1;33m)\u001b[0m\u001b[1;33m\u001b[0m\u001b[1;33m\u001b[0m\u001b[0m\n\u001b[0;32m     13\u001b[0m \u001b[1;33m\u001b[0m\u001b[0m\n",
      "\u001b[1;31mTypeError\u001b[0m: __init__() got an unexpected keyword argument 'parse_rate'"
     ]
    }
   ],
   "source": [
    "import sys\n",
    "import pandas as pd\n",
    "import numpy as np\n",
    "!{sys.executable} -m pip install numpy\n",
    "!{sys.executable} -m pip install pandas\n",
    "from csgo.parser import DemoParser\n",
    "from csgo.parser import FrameParser\n",
    "pd.options.display.max_columns = None\n",
    "# Create parser object\n",
    "# Set log=True above if you want to produce a logfile for the parser\n",
    "demo_parser = DemoParser(demofile = \"DemoManager/SKADE/Inferno/18-04-2021&Young Ninjas.dem\", match_id = \"big-vs-g2-dust\")\n",
    "frame_parser = FrameParser(demofile = \"DemoManager/SKADE/Inferno/18-04-2021&Young Ninjas.dem\", match_id = \"big-vs-g2-dust\")\n",
    "\n",
    "# # Parse the demofile, output results to dictionary with df name as key\n",
    "demo_data = demo_parser.parse()\n",
    "frame_data = frame_parser.parse(df=True)\n"
   ]
  },
  {
   "cell_type": "code",
   "execution_count": 58,
   "metadata": {},
   "outputs": [
    {
     "ename": "NameError",
     "evalue": "name 'version' is not defined",
     "output_type": "error",
     "traceback": [
      "\u001b[1;31m---------------------------------------------------------------------------\u001b[0m",
      "\u001b[1;31mNameError\u001b[0m                                 Traceback (most recent call last)",
      "\u001b[1;32m<ipython-input-58-fcdb80aaa02b>\u001b[0m in \u001b[0;36m<module>\u001b[1;34m\u001b[0m\n\u001b[1;32m----> 1\u001b[1;33m \u001b[0mversion\u001b[0m\u001b[1;33m(\u001b[0m\u001b[1;34m\"pandas\"\u001b[0m\u001b[1;33m)\u001b[0m\u001b[1;33m\u001b[0m\u001b[1;33m\u001b[0m\u001b[0m\n\u001b[0m",
      "\u001b[1;31mNameError\u001b[0m: name 'version' is not defined"
     ]
    }
   ],
   "source": [
    "version(\"pandas\")"
   ]
  },
  {
   "cell_type": "code",
   "execution_count": 6,
   "metadata": {},
   "outputs": [
    {
     "name": "stdout",
     "output_type": "stream",
     "text": [
      "     Round Round Round Round Round Round Round Round Round Round Round Round  \\\n",
      "0       \\n    \\n    \\n    \\n    \\n    \\n    \\n    \\n    \\n    \\n    \\n    \\n   \n",
      "1       \\n    \\n    \\n    \\n    \\n    \\n    \\n    \\n    \\n    \\n    \\n    \\n   \n",
      "2       \\n    \\n    \\n    \\n    \\n    \\n    \\n    \\n    \\n    \\n    \\n    \\n   \n",
      "3       \\n    \\n    \\n    \\n    \\n    \\n    \\n    \\n    \\n    \\n    \\n    \\n   \n",
      "4       \\n    \\n    \\n    \\n    \\n    \\n    \\n    \\n    \\n    \\n    \\n    \\n   \n",
      "...    ...   ...   ...   ...   ...   ...   ...   ...   ...   ...   ...   ...   \n",
      "1019  None  None  None  None  None  None  None  None  None  None  None  None   \n",
      "1020  None  None  None  None  None  None  None  None  None  None  None  None   \n",
      "1021  None  None  None  None  None  None  None  None  None  None  None  None   \n",
      "1022  None  None  None  None  None  None  None  None  None  None  None  None   \n",
      "1023  None  None  None  None  None  None  None  None  None  None  None  None   \n",
      "\n",
      "     Round Round Round Round Round Round Round Round Round Round  \n",
      "0       \\n    \\n    \\n    \\n    \\n    \\n    \\n    \\n    \\n    \\n  \n",
      "1       \\n    \\n    \\n    \\n    \\n    \\n    \\n    \\n    \\n    \\n  \n",
      "2       \\n    \\n    \\n    \\n    \\n    \\n    \\n    \\n    \\n    \\n  \n",
      "3       \\n    \\n    \\n    \\n    \\n    \\n    \\n    \\n    \\n    \\n  \n",
      "4       \\n    \\n    \\n    \\n    \\n    \\n    \\n    \\n    \\n    \\n  \n",
      "...    ...   ...   ...   ...   ...   ...   ...   ...   ...   ...  \n",
      "1019  None  None    \\n  None  None  None  None  None  None  None  \n",
      "1020  None  None    \\n  None  None  None  None  None  None  None  \n",
      "1021  None  None    \\n  None  None  None  None  None  None  None  \n",
      "1022  None  None    \\n  None  None  None  None  None  None  None  \n",
      "1023  None  None  None  None  None  None  None  None  None  None  \n",
      "\n",
      "[1024 rows x 22 columns]\n"
     ]
    }
   ],
   "source": []
  },
  {
   "cell_type": "code",
   "execution_count": 3,
   "metadata": {},
   "outputs": [],
   "source": [
    "teams = pd.unique(demo_data[\"Rounds\"][\"RoundWinner\"])"
   ]
  },
  {
   "cell_type": "code",
   "execution_count": 4,
   "metadata": {},
   "outputs": [
    {
     "data": {
      "text/html": [
       "<div>\n",
       "<style scoped>\n",
       "    .dataframe tbody tr th:only-of-type {\n",
       "        vertical-align: middle;\n",
       "    }\n",
       "\n",
       "    .dataframe tbody tr th {\n",
       "        vertical-align: top;\n",
       "    }\n",
       "\n",
       "    .dataframe thead th {\n",
       "        text-align: right;\n",
       "    }\n",
       "</style>\n",
       "<table border=\"1\" class=\"dataframe\">\n",
       "  <thead>\n",
       "    <tr style=\"text-align: right;\">\n",
       "      <th></th>\n",
       "      <th>RoundWinner</th>\n",
       "      <th>RoundsT</th>\n",
       "      <th>RoundsCT</th>\n",
       "    </tr>\n",
       "  </thead>\n",
       "  <tbody>\n",
       "    <tr>\n",
       "      <th>0</th>\n",
       "      <td>SKADE</td>\n",
       "      <td>6</td>\n",
       "      <td>10</td>\n",
       "    </tr>\n",
       "    <tr>\n",
       "      <th>1</th>\n",
       "      <td>Young Ninjas</td>\n",
       "      <td>5</td>\n",
       "      <td>1</td>\n",
       "    </tr>\n",
       "  </tbody>\n",
       "</table>\n",
       "</div>"
      ],
      "text/plain": [
       "    RoundWinner  RoundsT  RoundsCT\n",
       "0         SKADE        6        10\n",
       "1  Young Ninjas        5         1"
      ]
     },
     "execution_count": 4,
     "metadata": {},
     "output_type": "execute_result"
    }
   ],
   "source": [
    "rounds_t = demo_data[\"Rounds\"][demo_data[\"Rounds\"][\"RoundWinnerSide\"] == \"T\"].groupby(\"RoundWinner\").size().reset_index(name=\"RoundsT\")\n",
    "if len(rounds_t) < 2:\n",
    "    res_t = next((i for i, x in enumerate(teams) if not x == rounds_t[\"RoundWinner\"][0]), None)\n",
    "    rounds_t = rounds_t.append(pd.DataFrame({\"RoundWinner\": [teams[res_t]], \"RoundsT\" : [0]}),ignore_index=True)\n",
    "rounds_ct = demo_data[\"Rounds\"][demo_data[\"Rounds\"][\"RoundWinnerSide\"] == \"CT\"].groupby(\"RoundWinner\").size().reset_index(name=\"RoundsCT\")\n",
    "if len(rounds_ct) < 2:\n",
    "    res_t = next((i for i, x in enumerate(teams) if not x == rounds_ct[\"RoundWinner\"][0]), None)\n",
    "    rounds_ct = rounds_ct.append(pd.DataFrame({\"RoundWinner\": [teams[res_t]], \"RoundsCT\" : [0]}),ignore_index=True)\n",
    "\n",
    "rounds = rounds_t.merge(rounds_ct,left_on='RoundWinner', right_on='RoundWinner')\n",
    "rounds"
   ]
  },
  {
   "cell_type": "code",
   "execution_count": 5,
   "metadata": {
    "scrolled": false
   },
   "outputs": [
    {
     "name": "stderr",
     "output_type": "stream",
     "text": [
      "<ipython-input-5-234c69300b2b>:21: FutureWarning: Indexing with multiple keys (implicitly converted to a tuple of keys) will be deprecated, use a list instead.\n",
      "  adr = (data[\"Damages\"].groupby([\"AttackerName\"])[\"HpDamageArmor\", \"KillHpDamageArmor\"].sum()/total_rounds).reset_index()\n"
     ]
    },
    {
     "data": {
      "text/html": [
       "<div>\n",
       "<style scoped>\n",
       "    .dataframe tbody tr th:only-of-type {\n",
       "        vertical-align: middle;\n",
       "    }\n",
       "\n",
       "    .dataframe tbody tr th {\n",
       "        vertical-align: top;\n",
       "    }\n",
       "\n",
       "    .dataframe thead th {\n",
       "        text-align: right;\n",
       "    }\n",
       "</style>\n",
       "<table border=\"1\" class=\"dataframe\">\n",
       "  <thead>\n",
       "    <tr style=\"text-align: right;\">\n",
       "      <th></th>\n",
       "      <th>PlayerName</th>\n",
       "      <th>Kills</th>\n",
       "      <th>Deaths</th>\n",
       "      <th>NormADR</th>\n",
       "      <th>HeadShotPct</th>\n",
       "      <th>Entries</th>\n",
       "    </tr>\n",
       "  </thead>\n",
       "  <tbody>\n",
       "    <tr>\n",
       "      <th>0</th>\n",
       "      <td>Duplicate</td>\n",
       "      <td>24</td>\n",
       "      <td>8</td>\n",
       "      <td>135.136364</td>\n",
       "      <td>0.375000</td>\n",
       "      <td>3</td>\n",
       "    </tr>\n",
       "    <tr>\n",
       "      <th>1</th>\n",
       "      <td>LNZ</td>\n",
       "      <td>10</td>\n",
       "      <td>17</td>\n",
       "      <td>81.727273</td>\n",
       "      <td>0.700000</td>\n",
       "      <td>2</td>\n",
       "    </tr>\n",
       "    <tr>\n",
       "      <th>2</th>\n",
       "      <td>Mann3n</td>\n",
       "      <td>9</td>\n",
       "      <td>19</td>\n",
       "      <td>66.681818</td>\n",
       "      <td>0.666667</td>\n",
       "      <td>1</td>\n",
       "    </tr>\n",
       "    <tr>\n",
       "      <th>3</th>\n",
       "      <td>Rainwaker</td>\n",
       "      <td>18</td>\n",
       "      <td>9</td>\n",
       "      <td>111.000000</td>\n",
       "      <td>0.222222</td>\n",
       "      <td>1</td>\n",
       "    </tr>\n",
       "    <tr>\n",
       "      <th>4</th>\n",
       "      <td>SHiPZ1017</td>\n",
       "      <td>12</td>\n",
       "      <td>13</td>\n",
       "      <td>90.590909</td>\n",
       "      <td>0.416667</td>\n",
       "      <td>0</td>\n",
       "    </tr>\n",
       "    <tr>\n",
       "      <th>5</th>\n",
       "      <td>Sapec</td>\n",
       "      <td>11</td>\n",
       "      <td>19</td>\n",
       "      <td>77.818182</td>\n",
       "      <td>0.454545</td>\n",
       "      <td>6</td>\n",
       "    </tr>\n",
       "    <tr>\n",
       "      <th>6</th>\n",
       "      <td>dennyslaw</td>\n",
       "      <td>28</td>\n",
       "      <td>9</td>\n",
       "      <td>145.500000</td>\n",
       "      <td>0.500000</td>\n",
       "      <td>4</td>\n",
       "    </tr>\n",
       "    <tr>\n",
       "      <th>7</th>\n",
       "      <td>nilo</td>\n",
       "      <td>8</td>\n",
       "      <td>17</td>\n",
       "      <td>69.681818</td>\n",
       "      <td>0.750000</td>\n",
       "      <td>1</td>\n",
       "    </tr>\n",
       "    <tr>\n",
       "      <th>8</th>\n",
       "      <td>oxygen1735</td>\n",
       "      <td>9</td>\n",
       "      <td>13</td>\n",
       "      <td>59.363636</td>\n",
       "      <td>0.444444</td>\n",
       "      <td>1</td>\n",
       "    </tr>\n",
       "    <tr>\n",
       "      <th>9</th>\n",
       "      <td>phzy</td>\n",
       "      <td>13</td>\n",
       "      <td>18</td>\n",
       "      <td>84.636364</td>\n",
       "      <td>0.307692</td>\n",
       "      <td>3</td>\n",
       "    </tr>\n",
       "  </tbody>\n",
       "</table>\n",
       "</div>"
      ],
      "text/plain": [
       "   PlayerName  Kills  Deaths     NormADR  HeadShotPct  Entries\n",
       "0   Duplicate     24       8  135.136364     0.375000        3\n",
       "1         LNZ     10      17   81.727273     0.700000        2\n",
       "2      Mann3n      9      19   66.681818     0.666667        1\n",
       "3   Rainwaker     18       9  111.000000     0.222222        1\n",
       "4   SHiPZ1017     12      13   90.590909     0.416667        0\n",
       "5       Sapec     11      19   77.818182     0.454545        6\n",
       "6   dennyslaw     28       9  145.500000     0.500000        4\n",
       "7        nilo      8      17   69.681818     0.750000        1\n",
       "8  oxygen1735      9      13   59.363636     0.444444        1\n",
       "9        phzy     13      18   84.636364     0.307692        3"
      ]
     },
     "execution_count": 5,
     "metadata": {},
     "output_type": "execute_result"
    }
   ],
   "source": [
    "def getPlayerInfo (data):\n",
    "    kill_data = data[\"Kills\"]\n",
    "    kills =  kill_data.groupby([\"AttackerName\"]).size().reset_index(name=\"Kills\")\n",
    "    deaths =  kill_data.groupby([\"VictimName\"]).size().reset_index(name=\"Deaths\")\n",
    "    total_rounds = data[\"Rounds\"].shape[0]\n",
    "    kills[\"Entries\"] = np.zeros(kills.shape[0],dtype=int)\n",
    "    for ind,kill in enumerate(kill_data[\"RoundNum\"], start=0):\n",
    "        if (ind == 0) :\n",
    "            kills.loc[kills[\"AttackerName\"] == kill_data[\"AttackerName\"][ind], \"Entries\"] += 1\n",
    "            continue\n",
    "        if (kill_data[\"RoundNum\"][ind - 1] != kill_data[\"RoundNum\"][ind]):\n",
    "            kills.loc[kills[\"AttackerName\"] == kill_data[\"AttackerName\"][ind], \"Entries\"] += 1\n",
    "            continue\n",
    "        kills= kills[kills[\"AttackerName\"] != \"NA\"] \n",
    "    # Add Armor damage to the HP damage for each damage entry to get total damage\n",
    "    data[\"Damages\"][\"HpDamageArmor\"] = data[\"Damages\"][\"HpDamage\"] + data[\"Damages\"][\"ArmorDamage\"]\n",
    "    data[\"Damages\"][\"KillHpDamageArmor\"] = data[\"Damages\"][\"KillHpDamage\"] + data[\"Damages\"][\"ArmorDamage\"]\n",
    "    #Perctange headshots \n",
    "    head_per = data[\"Kills\"].groupby(\"AttackerName\").IsHeadshot.mean().reset_index(name=\"HeadShotPct\")\n",
    "    # Calculate\n",
    "    adr = (data[\"Damages\"].groupby([\"AttackerName\"])[\"HpDamageArmor\", \"KillHpDamageArmor\"].sum()/total_rounds).reset_index()\n",
    "    adr.columns = [\"PlayerName\", \"RawADR\", \"NormADR\"]\n",
    "    adr = adr[adr[\"PlayerName\"] != \"NA\"]\n",
    "    final_data = kills.merge(deaths, left_on=\"AttackerName\", right_on=\"VictimName\").merge(adr, left_on=\"VictimName\", right_on =\"PlayerName\")\n",
    "    final_data = final_data.merge(head_per,left_on=\"AttackerName\", right_on=\"AttackerName\" )\n",
    "    final_data = final_data[[\"PlayerName\", \"Kills\", \"Deaths\", \"NormADR\",\"HeadShotPct\", \"Entries\"]]\n",
    "    return final_data\n",
    "getPlayerInfo(demo_data)\n",
    "# smoke_thrown = data[\"Grenades\"][data[\"Grenades\"][\"GrenadeType\"].isin([\"Smoke\"])].groupby(\"PlayerName\").size().reset_index(name=\"SmokeThrown\")\n",
    "# # You can also write the demofile data to JSON using\n",
    "# smoke_thrown\n",
    "# demo_data[\"Kills\"]\n",
    "# list(filter(lambda x: x > 1, demo_data[\"Kills\"][\"RoundNum\"]))\n"
   ]
  },
  {
   "cell_type": "code",
   "execution_count": null,
   "metadata": {},
   "outputs": [],
   "source": []
  },
  {
   "cell_type": "code",
   "execution_count": 8,
   "metadata": {},
   "outputs": [
    {
     "name": "stderr",
     "output_type": "stream",
     "text": [
      "<ipython-input-8-1e219f6828a4>:2: UserWarning: Boolean Series key will be reindexed to match DataFrame index.\n",
      "  plant_a = demo_data[\"BombEvents\"][demo_data[\"BombEvents\"][\"EventType\"] == \"Plant\"][demo_data[\"BombEvents\"][\"BombSite\"] == \"A\"].groupby(\"Team\").size().reset_index(name=\"PlantOnA\")\n",
      "<ipython-input-8-1e219f6828a4>:3: UserWarning: Boolean Series key will be reindexed to match DataFrame index.\n",
      "  plant_b = demo_data[\"BombEvents\"][demo_data[\"BombEvents\"][\"EventType\"] == \"Plant\"][demo_data[\"BombEvents\"][\"BombSite\"] == \"B\"].groupby(\"Team\").size().reset_index(name=\"PlantOnB\")\n",
      "<ipython-input-8-1e219f6828a4>:17: UserWarning: Boolean Series key will be reindexed to match DataFrame index.\n",
      "  defuses_a = demo_data[\"BombEvents\"][demo_data[\"BombEvents\"][\"EventType\"] == \"Defuse\"][demo_data[\"BombEvents\"][\"BombSite\"] == \"A\"].groupby(\"Team\").size().reset_index(name=\"DefuseOnA\")\n",
      "<ipython-input-8-1e219f6828a4>:18: UserWarning: Boolean Series key will be reindexed to match DataFrame index.\n",
      "  defuses_b = demo_data[\"BombEvents\"][demo_data[\"BombEvents\"][\"EventType\"] == \"Defuse\"][demo_data[\"BombEvents\"][\"BombSite\"] == \"B\"].groupby(\"Team\").size().reset_index(name=\"DefuseOnB\")\n"
     ]
    },
    {
     "data": {
      "text/html": [
       "<div>\n",
       "<style scoped>\n",
       "    .dataframe tbody tr th:only-of-type {\n",
       "        vertical-align: middle;\n",
       "    }\n",
       "\n",
       "    .dataframe tbody tr th {\n",
       "        vertical-align: top;\n",
       "    }\n",
       "\n",
       "    .dataframe thead th {\n",
       "        text-align: right;\n",
       "    }\n",
       "</style>\n",
       "<table border=\"1\" class=\"dataframe\">\n",
       "  <thead>\n",
       "    <tr style=\"text-align: right;\">\n",
       "      <th></th>\n",
       "      <th>Team</th>\n",
       "      <th>PlantOnA</th>\n",
       "      <th>PlantOnB</th>\n",
       "      <th>DefuseOnA</th>\n",
       "      <th>DefuseOnB</th>\n",
       "      <th>SucPercA</th>\n",
       "      <th>SucPercB</th>\n",
       "      <th>ClearRoundsCT</th>\n",
       "    </tr>\n",
       "  </thead>\n",
       "  <tbody>\n",
       "    <tr>\n",
       "      <th>0</th>\n",
       "      <td>SKADE</td>\n",
       "      <td>2</td>\n",
       "      <td>3</td>\n",
       "      <td>0</td>\n",
       "      <td>1</td>\n",
       "      <td>0.5</td>\n",
       "      <td>1.0</td>\n",
       "      <td>9</td>\n",
       "    </tr>\n",
       "    <tr>\n",
       "      <th>1</th>\n",
       "      <td>Young Ninjas</td>\n",
       "      <td>4</td>\n",
       "      <td>2</td>\n",
       "      <td>1</td>\n",
       "      <td>0</td>\n",
       "      <td>1.0</td>\n",
       "      <td>0.5</td>\n",
       "      <td>0</td>\n",
       "    </tr>\n",
       "  </tbody>\n",
       "</table>\n",
       "</div>"
      ],
      "text/plain": [
       "           Team  PlantOnA  PlantOnB  DefuseOnA  DefuseOnB  SucPercA  SucPercB  \\\n",
       "0         SKADE         2         3          0          1       0.5       1.0   \n",
       "1  Young Ninjas         4         2          1          0       1.0       0.5   \n",
       "\n",
       "   ClearRoundsCT  \n",
       "0              9  \n",
       "1              0  "
      ]
     },
     "execution_count": 8,
     "metadata": {},
     "output_type": "execute_result"
    }
   ],
   "source": [
    "# Считаем количество поставленных бомб на разные планты \n",
    "plant_a = demo_data[\"BombEvents\"][demo_data[\"BombEvents\"][\"EventType\"] == \"Plant\"][demo_data[\"BombEvents\"][\"BombSite\"] == \"A\"].groupby(\"Team\").size().reset_index(name=\"PlantOnA\")\n",
    "plant_b = demo_data[\"BombEvents\"][demo_data[\"BombEvents\"][\"EventType\"] == \"Plant\"][demo_data[\"BombEvents\"][\"BombSite\"] == \"B\"].groupby(\"Team\").size().reset_index(name=\"PlantOnB\")\n",
    "# Если на а или б ни разу не поставили бомбу\n",
    "if plant_a.empty or plant_b.empty:\n",
    "    plants_a = pd.DataFrame({'Team': teams, 'PlantOnA': [0,0]}) if plant_a.empty else plants_a\n",
    "    plants_b =  pd.DataFrame({'Team': teams, 'PlantOnB': [0,0]})if plant_b.empty else plants_b\n",
    "# Если какая-либо из команд не поставила ни разу бомбу на плант а или б\n",
    "if len(plant_a) < 2 :\n",
    "    res_t = next((i for i, x in enumerate(teams) if not x == plant_a[\"Team\"][0]), None)\n",
    "    plants_a = plants_a.append(pd.DataFrame({\"Team\": [teams[res_t]], \"PlantOnA\" : [0]}),ignore_index=True)\n",
    "if len(plant_b) < 2 :\n",
    "    res_t = next((i for i, x in enumerate(teams) if not x == plant_b[\"Team\"][0]), None)\n",
    "    plants_b = plants_b.append(pd.DataFrame({\"Team\": [teams[res_t]], \"PlantOnB\" : [0]}),ignore_index=True)\n",
    "plants = plant_a.merge(plant_b, left_on=\"Team\", right_on=\"Team\")\n",
    "\n",
    "defuses_a = demo_data[\"BombEvents\"][demo_data[\"BombEvents\"][\"EventType\"] == \"Defuse\"][demo_data[\"BombEvents\"][\"BombSite\"] == \"A\"].groupby(\"Team\").size().reset_index(name=\"DefuseOnA\")\n",
    "defuses_b = demo_data[\"BombEvents\"][demo_data[\"BombEvents\"][\"EventType\"] == \"Defuse\"][demo_data[\"BombEvents\"][\"BombSite\"] == \"B\"].groupby(\"Team\").size().reset_index(name=\"DefuseOnB\")\n",
    "if defuses_a.empty or defuses_b.empty:\n",
    "    defuses_a = pd.DataFrame({'Team': teams, 'DefuseOnA': [0,0]}) if defuses_a.empty else defuses_a\n",
    "    defuses_b = pd.DataFrame({'Team': teams, 'DefuseOnB': [0,0]}) if defuses_b.empty else defuses_b\n",
    "# Если какая-либо из команд не задифьюзела ни разу бомбу на а или б\n",
    "if len(defuses_a) < 2 :\n",
    "    res_t = next((i for i, x in enumerate(teams) if not x == defuses_a[\"Team\"][0]), None)\n",
    "    defuses_a = defuses_a.append(pd.DataFrame({\"Team\": [teams[res_t]], \"DefuseOnA\" : [0]}),ignore_index=True)\n",
    "if len(defuses_b) < 2 :\n",
    "    res_t = next((i for i, x in enumerate(teams) if not x == defuses_b[\"Team\"][0]), None)\n",
    "    defuses_b = defuses_b.append(pd.DataFrame({\"Team\": [teams[res_t]], \"DefuseOnB\" : [0]}),ignore_index=True)\n",
    "plants = plant_a.merge(plant_b, left_on=\"Team\", right_on=\"Team\")\n",
    "defuses = defuses_a.merge(defuses_b, left_on=\"Team\", right_on=\"Team\")\n",
    "\n",
    "\n",
    "rounds_bombs = plants.merge(defuses, left_on=\"Team\", right_on=\"Team\")\n",
    "rounds_bombs[\"SucPercA\"] = (rounds_bombs[\"PlantOnA\"] - rounds_bombs[\"DefuseOnA\"].iloc[::-1].values) / rounds_bombs[\"PlantOnA\"]\n",
    "rounds_bombs[\"SucPercB\"] = (rounds_bombs[\"PlantOnB\"] - rounds_bombs[\"DefuseOnB\"].iloc[::-1].values) / rounds_bombs[\"PlantOnB\"]\n",
    "rounds_bombs\n",
    "clear = demo_data[\"Rounds\"][demo_data[\"Rounds\"][\"Reason\"].isin([\"CTWin\", \"TargetSaved\"])].groupby(\"RoundWinner\").size().reset_index(name=\"ClearRoundsCT\")\n",
    "if clear.empty:\n",
    "    clear = pd.DataFrame({'Team': teams, 'ClearRoundsCT': [0,0]})\n",
    "else:\n",
    "    if len(clear[\"RoundWinner\"]) < 2:\n",
    "        res_t = next((i for i, x in enumerate(teams) if not x == clear[\"RoundWinner\"][0]), None)\n",
    "        clear = clear.append(pd.DataFrame({\"RoundWinner\": [teams[res_t]], \"ClearRoundsCT\" : [0]}),ignore_index=True)\n",
    "clear.columns = [\"Team\",\"ClearRoundsCT\"]\n",
    "rounds_bombs = rounds_bombs.merge(clear, left_on=\"Team\", right_on=\"Team\")\n",
    "rounds_bombs\n",
    "\n",
    "\n",
    "\n"
   ]
  },
  {
   "cell_type": "code",
   "execution_count": 9,
   "metadata": {},
   "outputs": [
    {
     "name": "stderr",
     "output_type": "stream",
     "text": [
      "<ipython-input-9-9fb8b3fa5828>:3: UserWarning: Boolean Series key will be reindexed to match DataFrame index.\n",
      "  flash_thrown_ct = demo_data[\"Grenades\"][demo_data[\"Grenades\"][\"GrenadeType\"].isin([\"Flash\"])][demo_data[\"Grenades\"][\"Side\"] == \"CT\"].groupby(\"Team\").size().reset_index(name=\"FlashCT\")\n",
      "<ipython-input-9-9fb8b3fa5828>:4: UserWarning: Boolean Series key will be reindexed to match DataFrame index.\n",
      "  flash_thrown_t = demo_data[\"Grenades\"][demo_data[\"Grenades\"][\"GrenadeType\"].isin([\"Flash\"])][demo_data[\"Grenades\"][\"Side\"] == \"T\"].groupby(\"Team\").size().reset_index(name=\"FlashT\")\n"
     ]
    },
    {
     "data": {
      "text/html": [
       "<div>\n",
       "<style scoped>\n",
       "    .dataframe tbody tr th:only-of-type {\n",
       "        vertical-align: middle;\n",
       "    }\n",
       "\n",
       "    .dataframe tbody tr th {\n",
       "        vertical-align: top;\n",
       "    }\n",
       "\n",
       "    .dataframe thead th {\n",
       "        text-align: right;\n",
       "    }\n",
       "</style>\n",
       "<table border=\"1\" class=\"dataframe\">\n",
       "  <thead>\n",
       "    <tr style=\"text-align: right;\">\n",
       "      <th></th>\n",
       "      <th>Team</th>\n",
       "      <th>Smoke</th>\n",
       "      <th>FlashCT</th>\n",
       "      <th>AvgFlashesCT</th>\n",
       "      <th>FlashT</th>\n",
       "      <th>AvgFlashesT</th>\n",
       "      <th>UtilityDamage</th>\n",
       "      <th>PlantOnA</th>\n",
       "      <th>PlantOnB</th>\n",
       "      <th>DefuseOnA</th>\n",
       "      <th>DefuseOnB</th>\n",
       "      <th>SucPercA</th>\n",
       "      <th>SucPercB</th>\n",
       "      <th>ClearRoundsCT</th>\n",
       "    </tr>\n",
       "  </thead>\n",
       "  <tbody>\n",
       "    <tr>\n",
       "      <th>0</th>\n",
       "      <td>SKADE</td>\n",
       "      <td>58.0</td>\n",
       "      <td>17</td>\n",
       "      <td>1.133333</td>\n",
       "      <td>17</td>\n",
       "      <td>2.428571</td>\n",
       "      <td>1491</td>\n",
       "      <td>2</td>\n",
       "      <td>3</td>\n",
       "      <td>0</td>\n",
       "      <td>1</td>\n",
       "      <td>0.5</td>\n",
       "      <td>1.0</td>\n",
       "      <td>9</td>\n",
       "    </tr>\n",
       "    <tr>\n",
       "      <th>1</th>\n",
       "      <td>Young Ninjas</td>\n",
       "      <td>44.0</td>\n",
       "      <td>12</td>\n",
       "      <td>0.800000</td>\n",
       "      <td>52</td>\n",
       "      <td>7.428571</td>\n",
       "      <td>470</td>\n",
       "      <td>4</td>\n",
       "      <td>2</td>\n",
       "      <td>1</td>\n",
       "      <td>0</td>\n",
       "      <td>1.0</td>\n",
       "      <td>0.5</td>\n",
       "      <td>0</td>\n",
       "    </tr>\n",
       "  </tbody>\n",
       "</table>\n",
       "</div>"
      ],
      "text/plain": [
       "           Team  Smoke  FlashCT  AvgFlashesCT  FlashT  AvgFlashesT  \\\n",
       "0         SKADE   58.0       17      1.133333      17     2.428571   \n",
       "1  Young Ninjas   44.0       12      0.800000      52     7.428571   \n",
       "\n",
       "   UtilityDamage  PlantOnA  PlantOnB  DefuseOnA  DefuseOnB  SucPercA  \\\n",
       "0           1491         2         3          0          1       0.5   \n",
       "1            470         4         2          1          0       1.0   \n",
       "\n",
       "   SucPercB  ClearRoundsCT  \n",
       "0       1.0              9  \n",
       "1       0.5              0  "
      ]
     },
     "execution_count": 9,
     "metadata": {},
     "output_type": "execute_result"
    }
   ],
   "source": [
    "nade_dmg = demo_data[\"Damages\"][demo_data[\"Damages\"][\"Weapon\"].isin([\"Incendiary\", \"Molotov\", \"HE\"])]\n",
    "smoke_thrown = demo_data[\"Grenades\"][demo_data[\"Grenades\"][\"GrenadeType\"].isin([\"Smoke\"])].groupby(\"Team\").size().reset_index(name=\"Smoke\")\n",
    "flash_thrown_ct = demo_data[\"Grenades\"][demo_data[\"Grenades\"][\"GrenadeType\"].isin([\"Flash\"])][demo_data[\"Grenades\"][\"Side\"] == \"CT\"].groupby(\"Team\").size().reset_index(name=\"FlashCT\")\n",
    "flash_thrown_t = demo_data[\"Grenades\"][demo_data[\"Grenades\"][\"GrenadeType\"].isin([\"Flash\"])][demo_data[\"Grenades\"][\"Side\"] == \"T\"].groupby(\"Team\").size().reset_index(name=\"FlashT\")\n",
    "#smoke_thrown.div(2)\n",
    "smoke_thrown[\"Smoke\"] = round(smoke_thrown[\"Smoke\"] / 2)\n",
    "grenades = smoke_thrown.join(flash_thrown_ct, lsuffix='', rsuffix='_other')\n",
    "grenades = grenades.merge(flash_thrown_t,left_on='Team', right_on=\"Team\")\n",
    "flashes_avg_ct = flash_thrown_ct[\"FlashCT\"] / (rounds[\"RoundsCT\"][0] + rounds[\"RoundsT\"][1])\n",
    "flashes_avg_t = flash_thrown_t[\"FlashT\"] / (rounds[\"RoundsCT\"][1] + rounds[\"RoundsT\"][0])\n",
    "nade_dmg_df = nade_dmg.groupby(\"AttackerTeam\").HpDamage.sum().reset_index(name=\"UtilityDamage\").sort_values(\"UtilityDamage\", ascending=False)\n",
    "grenades = grenades.merge(nade_dmg_df, left_on='Team', right_on='AttackerTeam')\n",
    "grenades[\"AvgFlashesCT\"] = flashes_avg_ct\n",
    "grenades[\"AvgFlashesT\"] = flashes_avg_t\n",
    "grenades = grenades [[\"Team\", \"Smoke\", \"FlashCT\",\"AvgFlashesCT\", \"FlashT\", \"AvgFlashesT\", \"UtilityDamage\"]]\n",
    "grenades\n",
    "datInfo = grenades.merge(rounds_bombs, left_on=\"Team\", right_on=\"Team\")\n",
    "datInfo"
   ]
  },
  {
   "cell_type": "code",
   "execution_count": 14,
   "metadata": {},
   "outputs": [
    {
     "data": {
      "text/html": [
       "<div>\n",
       "<style scoped>\n",
       "    .dataframe tbody tr th:only-of-type {\n",
       "        vertical-align: middle;\n",
       "    }\n",
       "\n",
       "    .dataframe tbody tr th {\n",
       "        vertical-align: top;\n",
       "    }\n",
       "\n",
       "    .dataframe thead th {\n",
       "        text-align: right;\n",
       "    }\n",
       "</style>\n",
       "<table border=\"1\" class=\"dataframe\">\n",
       "  <thead>\n",
       "    <tr style=\"text-align: right;\">\n",
       "      <th></th>\n",
       "      <th>MatchId</th>\n",
       "      <th>MapName</th>\n",
       "      <th>RoundNum</th>\n",
       "      <th>Tick</th>\n",
       "      <th>Second</th>\n",
       "      <th>VictimX</th>\n",
       "      <th>VictimY</th>\n",
       "      <th>VictimZ</th>\n",
       "      <th>VictimXViz</th>\n",
       "      <th>VictimYViz</th>\n",
       "      <th>VictimViewX</th>\n",
       "      <th>VictimViewY</th>\n",
       "      <th>VictimAreaId</th>\n",
       "      <th>VictimAreaName</th>\n",
       "      <th>AttackerX</th>\n",
       "      <th>AttackerY</th>\n",
       "      <th>AttackerZ</th>\n",
       "      <th>AttackerXViz</th>\n",
       "      <th>AttackerYViz</th>\n",
       "      <th>AttackerViewX</th>\n",
       "      <th>AttackerViewY</th>\n",
       "      <th>AttackerAreaId</th>\n",
       "      <th>AttackerAreaName</th>\n",
       "      <th>VictimSteamId</th>\n",
       "      <th>VictimName</th>\n",
       "      <th>VictimTeam</th>\n",
       "      <th>VictimSide</th>\n",
       "      <th>VictimTeamEqVal</th>\n",
       "      <th>AttackerSteamId</th>\n",
       "      <th>AttackerName</th>\n",
       "      <th>AttackerTeam</th>\n",
       "      <th>AttackerSide</th>\n",
       "      <th>AttackerTeamEqVal</th>\n",
       "      <th>HpDamage</th>\n",
       "      <th>KillHpDamage</th>\n",
       "      <th>ArmorDamage</th>\n",
       "      <th>Weapon</th>\n",
       "      <th>HitGroup</th>\n",
       "      <th>HpDamageArmor</th>\n",
       "      <th>KillHpDamageArmor</th>\n",
       "    </tr>\n",
       "  </thead>\n",
       "  <tbody>\n",
       "  </tbody>\n",
       "</table>\n",
       "</div>"
      ],
      "text/plain": [
       "Empty DataFrame\n",
       "Columns: [MatchId, MapName, RoundNum, Tick, Second, VictimX, VictimY, VictimZ, VictimXViz, VictimYViz, VictimViewX, VictimViewY, VictimAreaId, VictimAreaName, AttackerX, AttackerY, AttackerZ, AttackerXViz, AttackerYViz, AttackerViewX, AttackerViewY, AttackerAreaId, AttackerAreaName, VictimSteamId, VictimName, VictimTeam, VictimSide, VictimTeamEqVal, AttackerSteamId, AttackerName, AttackerTeam, AttackerSide, AttackerTeamEqVal, HpDamage, KillHpDamage, ArmorDamage, Weapon, HitGroup, HpDamageArmor, KillHpDamageArmor]\n",
       "Index: []"
      ]
     },
     "execution_count": 14,
     "metadata": {},
     "output_type": "execute_result"
    }
   ],
   "source": [
    "demo_data[\"Damages\"][demo_data[\"Damages\"][\"Weapon\"] == \"Flash\"]"
   ]
  },
  {
   "cell_type": "code",
   "execution_count": 15,
   "metadata": {},
   "outputs": [
    {
     "data": {
      "text/html": [
       "<div>\n",
       "<style scoped>\n",
       "    .dataframe tbody tr th:only-of-type {\n",
       "        vertical-align: middle;\n",
       "    }\n",
       "\n",
       "    .dataframe tbody tr th {\n",
       "        vertical-align: top;\n",
       "    }\n",
       "\n",
       "    .dataframe thead th {\n",
       "        text-align: right;\n",
       "    }\n",
       "</style>\n",
       "<table border=\"1\" class=\"dataframe\">\n",
       "  <thead>\n",
       "    <tr style=\"text-align: right;\">\n",
       "      <th></th>\n",
       "      <th>RoundWinner</th>\n",
       "      <th>RoundsT</th>\n",
       "      <th>RoundsCT</th>\n",
       "    </tr>\n",
       "  </thead>\n",
       "  <tbody>\n",
       "    <tr>\n",
       "      <th>0</th>\n",
       "      <td>SKADE</td>\n",
       "      <td>6</td>\n",
       "      <td>10</td>\n",
       "    </tr>\n",
       "    <tr>\n",
       "      <th>1</th>\n",
       "      <td>Young Ninjas</td>\n",
       "      <td>5</td>\n",
       "      <td>1</td>\n",
       "    </tr>\n",
       "  </tbody>\n",
       "</table>\n",
       "</div>"
      ],
      "text/plain": [
       "    RoundWinner  RoundsT  RoundsCT\n",
       "0         SKADE        6        10\n",
       "1  Young Ninjas        5         1"
      ]
     },
     "execution_count": 15,
     "metadata": {},
     "output_type": "execute_result"
    }
   ],
   "source": [
    "rounds"
   ]
  },
  {
   "cell_type": "code",
   "execution_count": 16,
   "metadata": {},
   "outputs": [
    {
     "ename": "TypeError",
     "evalue": "parse() got an unexpected keyword argument 'df'",
     "output_type": "error",
     "traceback": [
      "\u001b[0;31m---------------------------------------------------------------------------\u001b[0m",
      "\u001b[0;31mTypeError\u001b[0m                                 Traceback (most recent call last)",
      "\u001b[0;32m<ipython-input-16-789c7db98e45>\u001b[0m in \u001b[0;36m<module>\u001b[0;34m\u001b[0m\n\u001b[0;32m----> 1\u001b[0;31m \u001b[0mdf\u001b[0m \u001b[0;34m=\u001b[0m \u001b[0mdemo_parser\u001b[0m\u001b[0;34m.\u001b[0m\u001b[0mparse\u001b[0m\u001b[0;34m(\u001b[0m\u001b[0mdf\u001b[0m \u001b[0;34m=\u001b[0m \u001b[0;32mTrue\u001b[0m\u001b[0;34m)\u001b[0m\u001b[0;34m\u001b[0m\u001b[0;34m\u001b[0m\u001b[0m\n\u001b[0m",
      "\u001b[0;31mTypeError\u001b[0m: parse() got an unexpected keyword argument 'df'"
     ]
    }
   ],
   "source": [
    "df = demo_parser.parse(df = True)"
   ]
  },
  {
   "cell_type": "code",
   "execution_count": 31,
   "metadata": {},
   "outputs": [
    {
     "name": "stderr",
     "output_type": "stream",
     "text": [
      "<ipython-input-5-234c69300b2b>:21: FutureWarning: Indexing with multiple keys (implicitly converted to a tuple of keys) will be deprecated, use a list instead.\n",
      "  adr = (data[\"Damages\"].groupby([\"AttackerName\"])[\"HpDamageArmor\", \"KillHpDamageArmor\"].sum()/total_rounds).reset_index()\n"
     ]
    },
    {
     "data": {
      "image/png": "[encoded data removed]",
      "text/plain": [
       "<Figure size 432x288 with 1 Axes>"
      ]
     },
     "metadata": {
      "needs_background": "light"
     },
     "output_type": "display_data"
    },
    {
     "data": {
      "image/png": "[encoded data removed]",
      "text/plain": [
       "<Figure size 432x288 with 1 Axes>"
      ]
     },
     "metadata": {
      "needs_background": "light"
     },
     "output_type": "display_data"
    },
    {
     "data": {
      "image/png": "[encoded data removed]",
      "text/plain": [
       "<Figure size 432x288 with 1 Axes>"
      ]
     },
     "metadata": {
      "needs_background": "light"
     },
     "output_type": "display_data"
    },
    {
     "data": {
      "image/png": "[encoded data removed]",
      "text/plain": [
       "<Figure size 432x288 with 1 Axes>"
      ]
     },
     "metadata": {
      "needs_background": "light"
     },
     "output_type": "display_data"
    },
    {
     "data": {
      "image/png": "[encoded data removed]",
      "text/plain": [
       "<Figure size 432x288 with 1 Axes>"
      ]
     },
     "metadata": {
      "needs_background": "light"
     },
     "output_type": "display_data"
    },
    {
     "data": {
      "image/png": "[encoded data removed]",
      "text/plain": [
       "<Figure size 432x288 with 1 Axes>"
      ]
     },
     "metadata": {
      "needs_background": "light"
     },
     "output_type": "display_data"
    },
    {
     "data": {
      "image/png": "[encoded data removed]",
      "text/plain": [
       "<Figure size 432x288 with 1 Axes>"
      ]
     },
     "metadata": {
      "needs_background": "light"
     },
     "output_type": "display_data"
    },
    {
     "data": {
      "image/png": "[encoded data removed]",
      "text/plain": [
       "<Figure size 432x288 with 1 Axes>"
      ]
     },
     "metadata": {
      "needs_background": "light"
     },
     "output_type": "display_data"
    },
    {
     "data": {
      "image/png": "[encoded data removed]",
      "text/plain": [
       "<Figure size 432x288 with 1 Axes>"
      ]
     },
     "metadata": {
      "needs_background": "light"
     },
     "output_type": "display_data"
    },
    {
     "data": {
      "image/png": "[encoded data removed]",
      "text/plain": [
       "<Figure size 432x288 with 1 Axes>"
      ]
     },
     "metadata": {
      "needs_background": "light"
     },
     "output_type": "display_data"
    }
   ],
   "source": [
    "import matplotlib.pyplot as plt\n",
    "for player in getPlayerInfo(demo_data)[\"PlayerName\"]:\n",
    "    ticks = frame_data.sort_values(by=['Tick'])\n",
    "    ticks = ticks [ticks[\"Hp\"] > 0]\n",
    "    ticks = ticks[ticks[\"TicksSinceStart\"] != '0']\n",
    "    playersPos = ticks[['PlayerName','X', 'Y']].groupby('PlayerName').agg(list)\n",
    "    plt.hist2d(playersPos[\"X\"][player],playersPos[\"Y\"][player],bins=100)\n",
    "\n",
    "    plt.show()\n"
   ]
  },
  {
   "cell_type": "code",
   "execution_count": 26,
   "metadata": {},
   "outputs": [
    {
     "name": "stdout",
     "output_type": "stream",
     "text": [
      "0.8193333333333334\n",
      "0.6995238095238095\n",
      "0.7380952380952381\n",
      "0.7604761904761904\n",
      "0.6773333333333332\n",
      "0.606095238095238\n",
      "0.7599047619047619\n",
      "0.8407619047619048\n",
      "0.6821904761904762\n",
      "0.7649523809523809\n"
     ]
    },
    {
     "name": "stderr",
     "output_type": "stream",
     "text": [
      "<ipython-input-5-234c69300b2b>:21: FutureWarning: Indexing with multiple keys (implicitly converted to a tuple of keys) will be deprecated, use a list instead.\n",
      "  adr = (data[\"Damages\"].groupby([\"AttackerName\"])[\"HpDamageArmor\", \"KillHpDamageArmor\"].sum()/total_rounds).reset_index()\n"
     ]
    }
   ],
   "source": [
    "def get_quantile(x, y, x_max, y_max):\n",
    "        arr = list(zip(x, y))\n",
    "        for i in range(0, len(arr)):\n",
    "                arr[i] = (int(arr[i][0]), int(arr[i][1]))\n",
    "        return len(set(arr))/(x_max*y_max)\n",
    "for player in getPlayerInfo(demo_data)[\"PlayerName\"]:    \n",
    "    print(get_quantile(playersPos['X'][player], playersPos['Y'][player], 3000, 3500) * 1000)"
   ]
  },
  {
   "cell_type": "code",
   "execution_count": 20,
   "metadata": {},
   "outputs": [
    {
     "data": {
      "text/plain": [
       "{'Young Ninjas': [1, 1, 2, 1, 1], 'SKADE': [5, 1, 1, 3]}"
      ]
     },
     "execution_count": 20,
     "metadata": {},
     "output_type": "execute_result"
    }
   ],
   "source": [
    "def count_streak():\n",
    "    round_streaks = {teams[0]: [], teams[1] : []}\n",
    "    winner_round = ''\n",
    "    count = 0\n",
    "    for ind, win in enumerate(demo_data[\"Rounds\"][\"RoundWinner\"]):\n",
    "        if (ind == 0):\n",
    "            winner_round = demo_data[\"Rounds\"][\"RoundWinner\"][0]\n",
    "            count +=1 \n",
    "        else:\n",
    "            if (winner_round != demo_data[\"Rounds\"][\"RoundWinner\"][ind]):\n",
    "                round_streaks[winner_round].append(count)\n",
    "                count = 1\n",
    "                winner_round = demo_data[\"Rounds\"][\"RoundWinner\"][ind]\n",
    "            else: \n",
    "                count+=1\n",
    "    return round_streaks\n",
    "\n",
    "count_streak()"
   ]
  },
  {
   "cell_type": "code",
   "execution_count": 32,
   "metadata": {},
   "outputs": [
    {
     "name": "stdout",
     "output_type": "stream",
     "text": [
      "10330\n"
     ]
    }
   ],
   "source": [
    "print(len(playersPos['Y']['Rainwaker']))"
   ]
  },
  {
   "cell_type": "code",
   "execution_count": 16,
   "metadata": {},
   "outputs": [
    {
     "name": "stdout",
     "output_type": "stream",
     "text": [
      "117930\n"
     ]
    }
   ],
   "source": [
    " ticks = frame_data.sort_values(by=['Tick'])\n",
    "print(len(list(ticks['Tick'].values)))"
   ]
  },
  {
   "cell_type": "code",
   "execution_count": 47,
   "metadata": {},
   "outputs": [
    {
     "data": {
      "text/plain": [
       "Index(['SteamId', 'RoundNum', 'Tick', 'Side', 'TeamName', 'EqVal',\n",
       "       'PlayerName', 'Hp', 'Armor', 'HasDefuse', 'HasHelmet', 'X', 'Y', 'Z',\n",
       "       'XViz', 'YViz', 'AreaName', 'AreaId', 'TicksSinceStart', 'MatchId',\n",
       "       'MapName', 'Seconds'],\n",
       "      dtype='object')"
      ]
     },
     "execution_count": 47,
     "metadata": {},
     "output_type": "execute_result"
    }
   ],
   "source": [
    "frame_data.columns"
   ]
  },
  {
   "cell_type": "code",
   "execution_count": null,
   "metadata": {},
   "outputs": [],
   "source": []
  }
 ],
 "metadata": {
  "kernelspec": {
   "display_name": "Python 3",
   "language": "python",
   "name": "python3"
  },
  "language_info": {
   "codemirror_mode": {
    "name": "ipython",
    "version": 3
   },
   "file_extension": ".py",
   "mimetype": "text/x-python",
   "name": "python",
   "nbconvert_exporter": "python",
   "pygments_lexer": "ipython3",
   "version": "3.9.4"
  }
 },
 "nbformat": 4,
 "nbformat_minor": 4
}
